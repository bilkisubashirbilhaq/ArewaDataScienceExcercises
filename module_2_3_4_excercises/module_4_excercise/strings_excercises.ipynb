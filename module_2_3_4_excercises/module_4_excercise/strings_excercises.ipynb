{
 "cells": [
  {
   "cell_type": "markdown",
   "metadata": {},
   "source": [
    "## Strings\n",
    "Any data type written as text is a string. Any data under single, double or triple quote are strings. There are different string methods and built-in functions to deal with string data types. To check the length of a string use the len() method.\n",
    "Lets practice some excercises\n",
    "1. Concatenate the string 'Thirty', 'Days', 'Of', 'Python' to a single string, 'Thirty Days Of Python'."
   ]
  },
  {
   "cell_type": "code",
   "execution_count": 5,
   "metadata": {},
   "outputs": [
    {
     "name": "stdout",
     "output_type": "stream",
     "text": [
      "('Thirty', 'Days', 'Of', 'Python')\n",
      "Thirty Days Of Python\n"
     ]
    }
   ],
   "source": [
    "sentence = 'Thirty', 'Days', 'Of', 'Python'\n",
    "print( sentence)\n",
    "con_sentence = ' '.join(sentence)\n",
    "print(con_sentence) \n",
    "\n"
   ]
  },
  {
   "cell_type": "markdown",
   "metadata": {},
   "source": [
    "2. Concatenate the string 'Coding', 'For' , 'All' to a single string, 'Coding For All'."
   ]
  },
  {
   "cell_type": "code",
   "execution_count": 6,
   "metadata": {},
   "outputs": [
    {
     "name": "stdout",
     "output_type": "stream",
     "text": [
      "('Coding', 'For', 'All')\n",
      "Coding For All\n"
     ]
    }
   ],
   "source": [
    "sentence = 'Coding', 'For' , 'All'\n",
    "print( sentence)\n",
    "con_sentence = ' '.join(sentence)\n",
    "print(con_sentence) \n"
   ]
  },
  {
   "cell_type": "markdown",
   "metadata": {},
   "source": [
    "3. Declare a variable named company and assign it to an initial value \"Coding For All\".\n",
    "4. Print the variable company using print().\n",
    "5. Print the length of the company string using len() method and print().\n",
    "6. Change all the characters to uppercase letters using upper() method.\n",
    "7. Change all the characters to lowercase letters using lower() method.\n",
    "\n",
    "\n",
    "\n"
   ]
  },
  {
   "cell_type": "code",
   "execution_count": 11,
   "metadata": {},
   "outputs": [
    {
     "name": "stdout",
     "output_type": "stream",
     "text": [
      "Coding For All\n",
      "14\n",
      "CODING FOR ALL\n",
      "coding for all\n"
     ]
    }
   ],
   "source": [
    "company = \"Coding For All\"\n",
    "print(company)\n",
    "print(len(company))\n",
    "print(company.upper())\n",
    "print(company.lower())\n"
   ]
  },
  {
   "cell_type": "markdown",
   "metadata": {},
   "source": [
    "8. Use capitalize(), title(), swapcase() methods to format the value of the string Coding For All \n",
    "\n",
    "9. Cut(slice) out the first word of Coding For All string.\n",
    "    \n",
    "10. Check if Coding For All string contains a word Coding using the method index, find or other methods.\n",
    "    \n",
    "11. Replace the word coding in the string 'Coding For All' to Python.\n"
   ]
  },
  {
   "cell_type": "code",
   "execution_count": 17,
   "metadata": {},
   "outputs": [
    {
     "name": "stdout",
     "output_type": "stream",
     "text": [
      "Coding for all\n",
      "Coding For All\n",
      "cODING fOR aLL\n",
      "The first word is: Coding\n",
      "Python For All\n"
     ]
    }
   ],
   "source": [
    "company = \"Coding For All\"\n",
    "print(company.capitalize())\n",
    "print(company.title())\n",
    "print(company.swapcase())\n",
    "\n",
    "# Define the string\n",
    "company = \"Coding For All\"\n",
    "# Slice out the first word\n",
    "first_word = company.split()[0]\n",
    "\n",
    "# Print the first word\n",
    "print(f\"The first word is: {first_word}\")\n",
    "\n",
    "print(company.replace('Coding','Python'))"
   ]
  },
  {
   "cell_type": "markdown",
   "metadata": {},
   "source": [
    "12. Change Python for Everyone to Python for All using the replace method or other methods.\n",
    "13. Split the string 'Coding For All' using space as the separator (split()) .\n",
    "14. \"Facebook, Google, Microsoft, Apple, IBM, Oracle, Amazon\" split the string at the comma.\n"
   ]
  },
  {
   "cell_type": "code",
   "execution_count": 26,
   "metadata": {},
   "outputs": [
    {
     "name": "stdout",
     "output_type": "stream",
     "text": [
      "Python for All\n",
      "['Coding', 'For', 'All']\n",
      "['Facebook', ' Google', ' Microsoft', ' Apple', ' IBM', ' Oracle', ' Amazon']\n"
     ]
    }
   ],
   "source": [
    "sentence_1 = 'Python for Everyone'\n",
    "print(sentence_1.replace(\"Python for Everyone\",'Python for All'))\n",
    "\n",
    "#Split the string 'Coding For All' using space as the separator (split())\n",
    "sentence_2 = 'Coding For All'\n",
    "print(sentence_2.split())\n",
    "\n",
    "string =  \"Facebook, Google, Microsoft, Apple, IBM, Oracle, Amazon\" \n",
    "#split the string at the comma.\n",
    "print(string.split(','))"
   ]
  },
  {
   "cell_type": "markdown",
   "metadata": {},
   "source": [
    "\n",
    "15. What is the character at index 0 in the string Coding For All.\n",
    "16. What is the last index of the string Coding For All.\n",
    "17. What character is at index 10 in \"Coding For All\" string.\n"
   ]
  },
  {
   "cell_type": "code",
   "execution_count": null,
   "metadata": {},
   "outputs": [
    {
     "name": "stdout",
     "output_type": "stream",
     "text": [
      "C\n",
      ".\n",
      " \n"
     ]
    }
   ],
   "source": [
    "# the character at index 0\n",
    "string = 'Coding For All.'\n",
    "string_index = string[0]\n",
    "print(string_index)\n",
    "\n",
    "#the last index\n",
    "string_last_index = string[-1]\n",
    "print(string_last_index)\n",
    "\n",
    "\n",
    "#character at index 10\n",
    "string_index_10 = string[10]\n",
    "print(string_index_10)          #The character at index 10 is an empty space.\n"
   ]
  },
  {
   "cell_type": "markdown",
   "metadata": {},
   "source": [
    "18. Create an acronym or an abbreviation for the name 'Python For Everyone'.\n",
    "19. Create an acronym or an abbreviation for the name 'Coding For All'.\n",
    "20. Use index to determine the position of the first occurrence of C in Coding For All.\n",
    "21. Use index to determine the position of the first occurrence of F in Coding For All.\n"
   ]
  },
  {
   "cell_type": "code",
   "execution_count": 41,
   "metadata": {},
   "outputs": [
    {
     "name": "stdout",
     "output_type": "stream",
     "text": [
      "PFE\n",
      "CFA\n",
      "The position of the first occurrence of 'C' is: 0\n",
      "The position of the first occurrence of 'F' is: 7\n"
     ]
    }
   ],
   "source": [
    "# To get the acronym of a word or sentence\n",
    "sentence = 'python For Everyone'\n",
    "acronym = ''.join([word[0] for word in sentence.split()]).upper()\n",
    "print(acronym)\n",
    "\n",
    "sentence_1 =  'Coding For All'\n",
    "acronym_1 = ''.join([word[0] for word in sentence_1.split()]).upper()\n",
    "print(acronym_1)\n",
    "\n",
    "#using index to determine the position \n",
    "text = \"Coding For All\"\n",
    "\n",
    "# Find the index of the first occurrence of 'C'\n",
    "text_C = text.index('C')\n",
    "print(f\"The position of the first occurrence of 'C' is: {text_C}\")\n",
    "\n",
    "# Find the index of the first occurrence of 'F'\n",
    "text_F = text.index('F')\n",
    "print(f\"The position of the first occurrence of 'F' is: {text_F}\")\n",
    "\n"
   ]
  },
  {
   "cell_type": "markdown",
   "metadata": {},
   "source": [
    "22. Use rfind to determine the position of the last occurrence of l in Coding For All People.\n",
    "23. Use index or find to find the position of the first occurrence of the word 'because' in the following sentence: \n",
    "    'You cannot end a sentence with because because because is a conjunction'\n",
    "24. Use rindex to find the position of the last occurrence of the word because in the following sentence: \n",
    "    'You cannot end a sentence with because because because is a conjunction'\n",
    "25. Slice out the phrase 'because because because' in the following sentence: 'You cannot end a sentence with because   because because is a conjunction'"
   ]
  },
  {
   "cell_type": "code",
   "execution_count": 2,
   "metadata": {},
   "outputs": [
    {
     "name": "stdout",
     "output_type": "stream",
     "text": [
      "The last occurance of l is at index 19\n",
      "The first occurance of because is at index 31\n",
      "The last occurance of because is at index 47\n",
      "The sliced phrase is: 'because because because'\n"
     ]
    }
   ],
   "source": [
    "#Use rfind to determine the position of the last occurrence of l in Coding For All People.\n",
    "#The rfind() method searches the string from right to left and returns the index of the last \n",
    "#occurrence of the specified substring.\n",
    "\n",
    "sentence = 'Coding For All People.'\n",
    "last_occurance = sentence.rfind(\"l\")\n",
    "print(f\"The last occurance of l is at index {last_occurance}\")\n",
    "\n",
    "#The first occurance of word \"because\"\n",
    "sentence = 'You cannot end a sentence with because because because is a conjunction'\n",
    "first_occurance = sentence.index('because')\n",
    "print(f\"The first occurance of because is at index {first_occurance}\")\n",
    "\n",
    "#Using rindex to find the position of the last occurrence of the word because in the sentence above\n",
    "\n",
    "last_occurance = sentence.rfind(\"because\")\n",
    "print(f\"The last occurance of because is at index {last_occurance}\")\n",
    "\n",
    "#to Slice out the phrase 'because because because' in the following sentence: \n",
    "#'You cannot end a sentence with because   because because is a conjunction'\n",
    "\n",
    "sentence = \"You cannot end a sentence with because because because is a conjunction\"\n",
    "start_index = sentence.find(\"because because because\")\n",
    "end_index = start_index + len(\"because because because\")\n",
    "sliced_phrase = sentence[start_index:end_index]\n",
    "print(f\"The sliced phrase is: '{sliced_phrase}'\")\n",
    "\n"
   ]
  },
  {
   "cell_type": "markdown",
   "metadata": {},
   "source": [
    "26. Find the position of the first occurrence of the word 'because' in the following sentence: 'You cannot end a sentence with because because because is a conjunction'\n",
    "27. Slice out the phrase 'because because because' in the following sentence: 'You cannot end a sentence with because because because is a conjunction'\n",
    "28. Does ''Coding For All' start with a substring Coding?\n",
    "29. Does 'Coding For All' end with a substring coding?"
   ]
  },
  {
   "cell_type": "code",
   "execution_count": 3,
   "metadata": {},
   "outputs": [
    {
     "name": "stdout",
     "output_type": "stream",
     "text": [
      "The first occurance of because is at index 31\n",
      "The sliced phrase is: 'because because because'\n",
      "Does the string start with 'Coding'? True\n",
      "Does the string start with 'Coding'? False\n"
     ]
    }
   ],
   "source": [
    "#first ocurance of the word because\n",
    "sentence = 'You cannot end a sentence with because because because is a conjunction'\n",
    "first_occurance = sentence.index('because')\n",
    "print(f\"The first occurance of because is at index {first_occurance}\")\n",
    "\n",
    "# slice out the phrase\n",
    "sentence = \"You cannot end a sentence with because because because is a conjunction\"\n",
    "start_index = sentence.find(\"because because because\")\n",
    "end_index = start_index + len(\"because because because\")\n",
    "sliced_phrase = sentence[start_index:end_index]\n",
    "print(f\"The sliced phrase is: '{sliced_phrase}'\")\n",
    "\n",
    "#starting with a string\n",
    "text = \"Coding For All\"\n",
    "starts_with_coding = text.startswith(\"Coding\")\n",
    "print(f\"Does the string start with 'Coding'? {starts_with_coding}\")\n",
    "\n",
    "#ends with a string\n",
    "text = \"Coding For All\"\n",
    "ends_with_coding = text.endswith(\"Coding\")\n",
    "print(f\"Does the string start with 'Coding'? {ends_with_coding}\")\n"
   ]
  },
  {
   "cell_type": "markdown",
   "metadata": {},
   "source": [
    "\n",
    "30. '   Coding For All      '  , remove the left and right trailing spaces in the given string.\n",
    "31. Which one of the following variables return True when we use the method isidentifier():\n",
    "\n",
    "    30DaysOfPython\n",
    "    thirty_days_of_python"
   ]
  },
  {
   "cell_type": "code",
   "execution_count": 6,
   "metadata": {},
   "outputs": [
    {
     "name": "stdout",
     "output_type": "stream",
     "text": [
      "Coding For All\n",
      "False\n",
      "True\n"
     ]
    }
   ],
   "source": [
    "#remove space from left and right\n",
    "text = \"   Coding For All      \"\n",
    "trimmed_text = text.strip()\n",
    "print(f'{trimmed_text}')\n",
    "\n",
    "\n",
    "\n",
    "#isidentifier(): Checks for a valid identifier - it checks if a string is a valid variable name\n",
    "challenge = '30DaysOfPython'\n",
    "print(challenge.isidentifier()) \n",
    "challenge = 'thirty_days_of_python'\n",
    "print(challenge.isidentifier()) "
   ]
  },
  {
   "cell_type": "markdown",
   "metadata": {},
   "source": [
    "32. The following list contains the names of some of python libraries: ['Django', 'Flask', 'Bottle', 'Pyramid', 'Falcon']. Join the list with a hash with space string.\n",
    "    \n",
    "33. Use the new line escape sequence to separate the following sentences.\n",
    "\n",
    "I am enjoying this challenge.\n",
    "I just wonder what is next.\n",
    "\n",
    "34. Use a tab escape sequence to write the following lines.\n",
    "\n",
    "Name      Age     Country   City\n",
    "Asabeneh  250     Finland   Helsinki"
   ]
  },
  {
   "cell_type": "code",
   "execution_count": 14,
   "metadata": {},
   "outputs": [
    {
     "name": "stdout",
     "output_type": "stream",
     "text": [
      "Joined string: 'Django # Flask # Bottle # Pyramid # Falcon'\n",
      "I am enjoying this challenge.\n",
      "I just wonder what is next.\n",
      "Name\t\tAge\tCountry\tCity\n",
      "Asabeneh\t250\tFinland\tHelsinki\n"
     ]
    }
   ],
   "source": [
    "# to join we can use .join()\n",
    "libraries = ['Django', 'Flask', 'Bottle', 'Pyramid', 'Falcon']\n",
    "\n",
    "# Join the list with a hash and a space\n",
    "joined_string = \" # \".join(libraries)\n",
    "print(f\"Joined string: '{joined_string}'\")\n",
    "\n",
    "#seperate a sentence with a new line\n",
    "text = \"I am enjoying this challenge.\\nI just wonder what is next.\"\n",
    "print(text)\n",
    "\n",
    "\n",
    "# Use \\t for tab spaces between columns\n",
    "text = \"Name\\t\\tAge\\tCountry\\tCity\\nAsabeneh\\t250\\tFinland\\tHelsinki\"\n",
    "print(text)\n",
    "\n"
   ]
  },
  {
   "cell_type": "markdown",
   "metadata": {},
   "source": [
    "   35.  Use the string formatting method to display the following:\n",
    "\n",
    "radius = 10\n",
    "area = 3.14 * radius ** 2\n",
    "The area of a circle with radius 10 is 314 meters square.\n",
    "\n"
   ]
  },
  {
   "cell_type": "code",
   "execution_count": 16,
   "metadata": {},
   "outputs": [
    {
     "name": "stdout",
     "output_type": "stream",
     "text": [
      "The area of a circle with a radius 10 is 314.00.\n"
     ]
    }
   ],
   "source": [
    "radius = 10\n",
    "pi = 3.14\n",
    "area = pi * radius ** 2\n",
    "formated_string = 'The area of a circle with a radius {} is {:.2f}.'.format(radius, area)  # 2 digits after decimal\n",
    "print(formated_string)\n"
   ]
  },
  {
   "cell_type": "markdown",
   "metadata": {},
   "source": [
    "\n",
    "    Make the following using string formatting methods:\n",
    "\n",
    "8 + 6 = 14\n",
    "8 - 6 = 2\n",
    "8 * 6 = 48\n",
    "8 / 6 = 1.33\n",
    "8 % 6 = 2\n",
    "8 // 6 = 1\n",
    "8 ** 6 = 262144\n",
    "\n"
   ]
  },
  {
   "cell_type": "code",
   "execution_count": 17,
   "metadata": {},
   "outputs": [
    {
     "name": "stdout",
     "output_type": "stream",
     "text": [
      "8 + 6 = 14\n",
      "8 - 6 = 2\n",
      "8 * 6 = 48\n",
      "8 / 6 = 1.33\n",
      "8 % 6 = 2\n",
      "8 // 6 = 1\n",
      "8 ** 6 = 262144\n",
      "\n"
     ]
    }
   ],
   "source": [
    "# Define the numbers\n",
    "a = 8\n",
    "b = 6\n",
    "\n",
    "# Perform the operations and format the results\n",
    "formatted_output = \"\"\"\\\n",
    "{} + {} = {}\n",
    "{} - {} = {}\n",
    "{} * {} = {}\n",
    "{} / {} = {:.2f}\n",
    "{} % {} = {}\n",
    "{} // {} = {}\n",
    "{} ** {} = {}\n",
    "\"\"\".format(\n",
    "    a, b, a + b,   \n",
    "    a, b, a - b,   \n",
    "    a, b, a * b,   \n",
    "    a, b, a / b,   # Division (formatted to 2 decimal places)\n",
    "    a, b, a % b,   \n",
    "    a, b, a // b,  \n",
    "    a, b, a ** b   \n",
    ")\n",
    "\n",
    "# Print the formatted output\n",
    "print(formatted_output)\n"
   ]
  }
 ],
 "metadata": {
  "kernelspec": {
   "display_name": "base",
   "language": "python",
   "name": "python3"
  },
  "language_info": {
   "codemirror_mode": {
    "name": "ipython",
    "version": 3
   },
   "file_extension": ".py",
   "mimetype": "text/x-python",
   "name": "python",
   "nbconvert_exporter": "python",
   "pygments_lexer": "ipython3",
   "version": "3.9.12"
  }
 },
 "nbformat": 4,
 "nbformat_minor": 2
}
