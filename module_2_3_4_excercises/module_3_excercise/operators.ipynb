{
 "cells": [
  {
   "cell_type": "markdown",
   "metadata": {},
   "source": [
    "### Declarations of Variables"
   ]
  },
  {
   "cell_type": "code",
   "execution_count": null,
   "metadata": {},
   "outputs": [],
   "source": [
    "age = 34\n",
    "hieght = 5.7"
   ]
  },
  {
   "cell_type": "markdown",
   "metadata": {},
   "source": [
    "### Complex Numbers\n",
    " They make of lower case j to indicate is a complex number"
   ]
  },
  {
   "cell_type": "code",
   "execution_count": null,
   "metadata": {},
   "outputs": [],
   "source": [
    "\n",
    "complex_number = 2+2j\n",
    "print(complex_number)\n"
   ]
  },
  {
   "cell_type": "markdown",
   "metadata": {},
   "source": [
    "#### User input\n",
    "Write a script that prompts the user to enter base and height of the triangle and calculate an area of this triangle (area = 0.5 x b x h)"
   ]
  },
  {
   "cell_type": "code",
   "execution_count": null,
   "metadata": {},
   "outputs": [],
   "source": [
    "base = float(input(\"Enter the base of the triangle: \"))\n",
    "height = float(input(\"Enter the height of the triangle: \"))\n",
    "area = 0.5 * base * height\n",
    "print(f\"The area of the triangle is {area}\")"
   ]
  },
  {
   "cell_type": "markdown",
   "metadata": {},
   "source": [
    "Write a script that prompts the user to enter side a, side b, and side c of the triangle. Calculate the perimeter of the triangle (perimeter = a + b + c)."
   ]
  },
  {
   "cell_type": "code",
   "execution_count": null,
   "metadata": {},
   "outputs": [],
   "source": [
    "side a = float(input(\"Enter the value of side a: \"))\n",
    "side b = float(input(\"Enter the value of side b: \"))\n",
    "side c = float(input(\"Enter the value of side c: \"))\n",
    "perimeter = a + b + c\n",
    "print(f\"The perimeter is: {perimeter}\")"
   ]
  },
  {
   "cell_type": "markdown",
   "metadata": {},
   "source": [
    "Get length and width of a rectangle using prompt. Calculate its area (area = length x width) and perimeter (perimeter = 2 x (length + width))"
   ]
  },
  {
   "cell_type": "code",
   "execution_count": null,
   "metadata": {},
   "outputs": [],
   "source": [
    "length = float(input(\"Enter the length of the rectangle: \"))\n",
    "width = float(input(\"Enter the width of the rectangle: \"))\n",
    "\n",
    "\n",
    "area = length * width\n",
    "perimeter = 2 * (length + width)\n",
    "\n",
    "print(f\"The area of the rectangle is {area}\")\n",
    "print(f\"The perimeter of the rectangle is {perimeter}\")\n"
   ]
  },
  {
   "cell_type": "markdown",
   "metadata": {},
   "source": [
    "Get radius of a circle using prompt. Calculate the area (area = pi x r x r) and circumference (c = 2 x pi x r) where pi = 3.14."
   ]
  },
  {
   "cell_type": "code",
   "execution_count": null,
   "metadata": {},
   "outputs": [],
   "source": [
    "import math\n",
    "\n",
    "radius = float(input(\"Enter the radius of a circle: \"))\n",
    "area = math.pi * radius* radius \n",
    "circumference = 2 * math.pi * radius\n",
    "print(f\"The area of the circle is {area}\")\n",
    "print(f\"The circumference of the circle is {circumference}\")\n",
    "\n"
   ]
  },
  {
   "cell_type": "markdown",
   "metadata": {},
   "source": [
    "Calculate the slope, x-intercept and y-intercept of y = 2x -2"
   ]
  },
  {
   "cell_type": "code",
   "execution_count": null,
   "metadata": {},
   "outputs": [],
   "source": [
    "# Define the equation parameters\n",
    "m = 2  # Slope of the line (coefficient of x)\n",
    "b = -2  # Y-intercept (constant term)\n",
    "\n",
    "# Calculate the slope\n",
    "slope = m\n",
    "\n",
    "# Calculate the x-intercept\n",
    "# The x-intercept is when y = 0\n",
    "x_intercept = -b / m\n",
    "\n",
    "# The y-intercept is simply the constant term b\n",
    "y_intercept = b\n",
    "\n",
    "# Display the results\n",
    "print(f\"Slope: {slope}\")\n",
    "print(f\"X-Intercept: ({x_intercept}, 0)\")\n",
    "print(f\"Y-Intercept: (0, {y_intercept})\")\n"
   ]
  },
  {
   "cell_type": "markdown",
   "metadata": {},
   "source": [
    "Slope is (m = y2-y1/x2-x1). Find the slope and Euclidean distance between point (2, 2) and point (6,10)"
   ]
  },
  {
   "cell_type": "code",
   "execution_count": 8,
   "metadata": {},
   "outputs": [
    {
     "name": "stdout",
     "output_type": "stream",
     "text": [
      "Slope: 2.0\n",
      "Euclidean Distance: 8.94427190999916\n"
     ]
    }
   ],
   "source": [
    "import math\n",
    "\n",
    "# Define the points\n",
    "x1, y1 = 2, 2\n",
    "x2, y2 = 6, 10\n",
    "\n",
    "# Calculate the slope\n",
    "slope = (y2 - y1) / (x2 - x1)\n",
    "\n",
    "# Calculate the Euclidean distance\n",
    "distance = math.sqrt((x2 - x1)**2 + (y2 - y1)**2)\n",
    "\n",
    "# Display the results\n",
    "print(f\"Slope: {slope}\")\n",
    "print(f\"Euclidean Distance: {distance}\")\n"
   ]
  },
  {
   "cell_type": "markdown",
   "metadata": {},
   "source": [
    "To Compare the slopes in tasks 8 and 9."
   ]
  },
  {
   "cell_type": "code",
   "execution_count": 9,
   "metadata": {},
   "outputs": [
    {
     "name": "stdout",
     "output_type": "stream",
     "text": [
      "The slopes are equal: 2\n"
     ]
    }
   ],
   "source": [
    "# The values of task 8 and task 9 are as \n",
    "slope_task8 = 2\n",
    "slope_task9 = 2\n",
    "\n",
    "# Compare the slopes\n",
    "if slope_task8 == slope_task9:\n",
    "    print(f\"The slopes are equal: {slope_task8}\")\n",
    "else:\n",
    "    print(f\"The slopes are different. Task 1 Slope: {slope_task8}, Task 2 Slope: {slope_task9}\")"
   ]
  },
  {
   "cell_type": "markdown",
   "metadata": {},
   "source": [
    "Calculate the value of y (y = x^2 + 6x + 9). Try to use different x values and figure out at what x value y is going to be 0.\n"
   ]
  },
  {
   "cell_type": "code",
   "execution_count": 3,
   "metadata": {},
   "outputs": [
    {
     "name": "stdout",
     "output_type": "stream",
     "text": [
      "For x = -10, y = 49\n",
      "For x = -9, y = 36\n",
      "For x = -8, y = 25\n",
      "For x = -7, y = 16\n",
      "For x = -6, y = 9\n",
      "For x = -5, y = 4\n",
      "For x = -4, y = 1\n",
      "For x = -3, y = 0\n",
      "For x = -2, y = 1\n",
      "For x = -1, y = 4\n",
      "For x = 0, y = 9\n",
      "For x = 1, y = 16\n",
      "\n",
      "When x = -3, y = 0\n"
     ]
    }
   ],
   "source": [
    "# Define the quadratic function\n",
    "def calculate_y(x):\n",
    "    return x**2 + 6*x + 9\n",
    "\n",
    "# Test the function with various x values\n",
    "x_values = [-10, -9, -8, -7, -6, -5, -4, -3, -2, -1, 0, 1]\n",
    "for x in x_values:\n",
    "    y = calculate_y(x)\n",
    "    print(f\"For x = {x}, y = {y}\")\n",
    "\n",
    "# Verify when y = 0\n",
    "x_when_y_is_zero = -3\n",
    "y_at_zero = calculate_y(x_when_y_is_zero)\n",
    "print(f\"\\nWhen x = {x_when_y_is_zero}, y = {y_at_zero}\")\n"
   ]
  },
  {
   "cell_type": "markdown",
   "metadata": {},
   "source": [
    "Find the length of 'python' and 'dragon' and make a falsy comparison statement."
   ]
  },
  {
   "cell_type": "code",
   "execution_count": 7,
   "metadata": {},
   "outputs": [
    {
     "name": "stdout",
     "output_type": "stream",
     "text": [
      "Length of 'python': 6\n",
      "Length of 'dragon': 6\n",
      "Falsy comparison (length_word1 != length_word2): False\n"
     ]
    }
   ],
   "source": [
    "# Strings\n",
    "word1 = \"python\"\n",
    "word2 = \"dragon\"\n",
    "\n",
    "# Find lengths\n",
    "length_word1 = len(word1)\n",
    "length_word2 = len(word2)\n",
    "# Falsy comparison statement\n",
    "comparison = length_word1 != length_word2  # This is False since the lengths are equal\n",
    "\n",
    "# Print the results\n",
    "print(f\"Length of '{word1}': {length_word1}\")\n",
    "print(f\"Length of '{word2}': {length_word2}\")\n",
    "print(f\"Falsy comparison (length_word1 != length_word2): {comparison}\")\n"
   ]
  },
  {
   "cell_type": "markdown",
   "metadata": {},
   "source": [
    "Use and operator to check if 'on' is found in both 'python' and 'dragon'\n",
    "The and operator ensures that both conditions must be True for the result to be True.\n",
    "Since both conditions are True, the overall result should be True."
   ]
  },
  {
   "cell_type": "code",
   "execution_count": null,
   "metadata": {},
   "outputs": [],
   "source": [
    "# both words are Strings\n",
    "word1 = \"python\"\n",
    "word2 = \"dragon\"\n",
    "\n",
    "# Check if 'on' is in both words using the 'and' operator\n",
    "result = ('on' in word1) and ('on' in word2)\n",
    "\n",
    "# Print the result\n",
    "print(f\"Is 'on' found in both '{word1}' and '{word2}'? {result}\")\n"
   ]
  },
  {
   "cell_type": "markdown",
   "metadata": {},
   "source": [
    "I hope this course is not full of jargon. Use in operator to check if jargon is in the sentence.\n",
    "\n",
    "in Operator:\n",
    "    The in operator checks whether a substring exists within the string sentence.\n",
    "    \n"
   ]
  },
  {
   "cell_type": "code",
   "execution_count": 8,
   "metadata": {},
   "outputs": [
    {
     "name": "stdout",
     "output_type": "stream",
     "text": [
      "Is 'jargon' in the sentence? True\n"
     ]
    }
   ],
   "source": [
    "# Sentence\n",
    "sentence = \"I hope this course is not full of jargon.\"\n",
    "\n",
    "# Check if 'jargon' is in the sentence\n",
    "result = 'jargon' in sentence\n",
    "\n",
    "# Print the result\n",
    "print(f\"Is 'jargon' in the sentence? {result}\")\n"
   ]
  },
  {
   "cell_type": "markdown",
   "metadata": {},
   "source": [
    "There is no 'on' in both dragon and python"
   ]
  },
  {
   "cell_type": "code",
   "execution_count": null,
   "metadata": {},
   "outputs": [],
   "source": [
    "# Strings\n",
    "word1 = \"python\"\n",
    "word2 = \"dragon\"\n",
    "\n",
    "# Check if 'on' is in both words\n",
    "is_in_python = 'on' in word1\n",
    "is_in_dragon = 'on' in word2\n",
    "\n",
    "# Print the results\n",
    "print(f\"Is 'on' in 'python'? {is_in_python}\")\n",
    "print(f\"Is 'on' in 'dragon'? {is_in_dragon}\")\n",
    "print(f\"Is 'on' in both 'python' and 'dragon'? {is_in_python and is_in_dragon}\")\n"
   ]
  },
  {
   "cell_type": "markdown",
   "metadata": {},
   "source": [
    "Find the length of the text python and convert the value to float and convert it to string"
   ]
  },
  {
   "cell_type": "code",
   "execution_count": 9,
   "metadata": {},
   "outputs": [
    {
     "name": "stdout",
     "output_type": "stream",
     "text": [
      "Length of 'python': 6\n",
      "Length as a float: 6.0\n",
      "Length as a string: '6.0'\n"
     ]
    }
   ],
   "source": [
    "word = \"python\"\n",
    "\n",
    "# To Find the length of the word we use\n",
    "length = len(word)\n",
    "\n",
    "# Convert the length to a float\n",
    "length_float = float(length)\n",
    "\n",
    "# Convert the float value to a string\n",
    "length_string = str(length_float)\n",
    "\n",
    "# Print the results\n",
    "print(f\"Length of '{word}': {length}\")\n",
    "print(f\"Length as a float: {length_float}\")\n",
    "print(f\"Length as a string: '{length_string}'\")\n"
   ]
  },
  {
   "cell_type": "markdown",
   "metadata": {},
   "source": [
    "Even numbers are divisible by 2 and the remainder is zero. How do you check if a number is even or not using python?\n",
    "Answer:\n",
    "In Python, you can check if a number is even by using the modulus operator (%). The modulus operator gives the remainder of a division. If a number is divisible by 2 (i.e., the remainder is 0), it is even.\n"
   ]
  },
  {
   "cell_type": "code",
   "execution_count": 10,
   "metadata": {},
   "outputs": [
    {
     "name": "stdout",
     "output_type": "stream",
     "text": [
      "6 is an even number.\n"
     ]
    }
   ],
   "source": [
    "# Input: Get the number from the user\n",
    "number = int(input(\"Enter a number: \"))\n",
    "\n",
    "# Check if the number is even\n",
    "if number % 2 == 0:\n",
    "    print(f\"{number} is an even number.\")\n",
    "else:\n",
    "    print(f\"{number} is not an even number.\")\n"
   ]
  },
  {
   "cell_type": "markdown",
   "metadata": {},
   "source": [
    "Check if the floor division of 7 by 3 is equal to the int converted value of 2.7."
   ]
  },
  {
   "cell_type": "code",
   "execution_count": 11,
   "metadata": {},
   "outputs": [
    {
     "name": "stdout",
     "output_type": "stream",
     "text": [
      "Floor division of 7 by 3: 2\n",
      "Integer value of 2.7: 2\n",
      "Are they equal? True\n"
     ]
    }
   ],
   "source": [
    "# Perform floor division of 7 by 3\n",
    "floor_division_result = 7 // 3\n",
    "\n",
    "# Convert 2.7 to an integer\n",
    "int_value = int(2.7)\n",
    "\n",
    "# Check if they are equal\n",
    "comparison = floor_division_result == int_value\n",
    "\n",
    "# Print the results\n",
    "print(f\"Floor division of 7 by 3: {floor_division_result}\")\n",
    "print(f\"Integer value of 2.7: {int_value}\")\n",
    "print(f\"Are they equal? {comparison}\")\n"
   ]
  },
  {
   "cell_type": "markdown",
   "metadata": {},
   "source": [
    "Check if type of '10' is equal to type of 10"
   ]
  },
  {
   "cell_type": "code",
   "execution_count": 13,
   "metadata": {},
   "outputs": [
    {
     "name": "stdout",
     "output_type": "stream",
     "text": [
      "Type of '10': <class 'str'>\n",
      "Type of 10: <class 'int'>\n",
      "Are the types equal? False\n"
     ]
    }
   ],
   "source": [
    "# Values\n",
    "value1 = '10' \n",
    "value2 = 10   \n",
    "\n",
    "# Check types\n",
    "type_value1 = type(value1)\n",
    "type_value2 = type(value2)\n",
    "\n",
    "types_equal = type_value1 == type_value2\n",
    "\n",
    "# Print the results\n",
    "print(f\"Type of '10': {type_value1}\")\n",
    "print(f\"Type of 10: {type_value2}\")\n",
    "print(f\"Are the types equal? {types_equal}\")\n",
    "\n",
    "\n"
   ]
  },
  {
   "cell_type": "markdown",
   "metadata": {},
   "source": [
    "Check if int('9.8') is equal to 10"
   ]
  },
  {
   "cell_type": "code",
   "execution_count": null,
   "metadata": {},
   "outputs": [
    {
     "name": "stdout",
     "output_type": "stream",
     "text": [
      "<class 'str'>\n",
      "<class 'int'>\n"
     ]
    }
   ],
   "source": [
    "# let check there type\n",
    "value1 = '9.8'\n",
    "value2 = 10\n",
    "print(type(value1))\n",
    "\n",
    "print(type(value2))\n",
    "# by main seeing from there type they are not thesame"
   ]
  },
  {
   "cell_type": "markdown",
   "metadata": {},
   "source": [
    "Writ a script that prompts the user to enter hours and rate per hour. Calculate pay of the person?"
   ]
  },
  {
   "cell_type": "code",
   "execution_count": 16,
   "metadata": {},
   "outputs": [
    {
     "name": "stdout",
     "output_type": "stream",
     "text": [
      "Total pay is: N15.0\n"
     ]
    }
   ],
   "source": [
    "# Prompt the user to enter hours \n",
    "hours = float(input(\"Enter the number of hours worked: \"))\n",
    "\n",
    "# Prompt the user to enter the rate per hour\n",
    "rate = float(input(\"Enter the rate per hour: \"))\n",
    "\n",
    "# Calculate the total pay\n",
    "pay = hours * rate\n",
    "\n",
    "# Display the total pay\n",
    "print(f\"Total pay is: N{pay}\")\n"
   ]
  },
  {
   "cell_type": "markdown",
   "metadata": {},
   "source": [
    "    Write a script that prompts the user to enter number of years. Calculate the number of seconds a person can live. Assume a person can live hundred years\n"
   ]
  },
  {
   "cell_type": "code",
   "execution_count": null,
   "metadata": {},
   "outputs": [
    {
     "name": "stdout",
     "output_type": "stream",
     "text": [
      "The number of seconds a person can live for 100 years is: 3153600000 seconds.\n"
     ]
    }
   ],
   "source": [
    "# Define constants\n",
    "SECONDS_IN_A_YEAR = 365 * 24 * 60 * 60  # Seconds in a year (365 days)\n",
    "\n",
    "# Prompt the user to enter the number of years\n",
    "years = int(input(\"Enter the number of years: \"))\n",
    "\n",
    "# Calculate the number of seconds\n",
    "seconds_lived = years * SECONDS_IN_A_YEAR\n",
    "\n",
    "# Display the result\n",
    "print(f\"The number of seconds a person can live for {years} years is: {seconds_lived} seconds.\")\n"
   ]
  },
  {
   "cell_type": "markdown",
   "metadata": {},
   "source": [
    "\n",
    "    Write a Python script that displays the following table\n",
    "\n",
    "1 1 1 1 1\n",
    "2 1 2 4 8\n",
    "3 1 3 9 27\n",
    "4 1 4 16 64\n",
    "5 1 5 25 125\n",
    "\n"
   ]
  },
  {
   "cell_type": "code",
   "execution_count": 1,
   "metadata": {},
   "outputs": [
    {
     "name": "stdout",
     "output_type": "stream",
     "text": [
      "Number  Constant  Square  Cube  Power of 3\n",
      "1       1         1       1      3         \n",
      "2       1         2       4      9         \n",
      "3       1         3       9      27        \n",
      "4       1         4       16     81        \n",
      "5       1         5       25     243       \n"
     ]
    }
   ],
   "source": [
    "# Print the header of the table\n",
    "print(\"Number  Constant  Square  Cube  Power of 3\")\n",
    "# range = 1,2,3,4,5,\n",
    "# Loop through the numbers from 1 to 5\n",
    "for number in range(1, 6):\n",
    "    constant = 1\n",
    "    square = number ** 2\n",
    "    cube = number ** 3\n",
    "    power_of_3 = 3 ** number\n",
    "    # Print the row in the table\n",
    "    print(f\"{number:<7} {constant:<9} {number:<7} {square:<6} {power_of_3:<10}\")\n"
   ]
  }
 ],
 "metadata": {
  "kernelspec": {
   "display_name": "base",
   "language": "python",
   "name": "python3"
  },
  "language_info": {
   "codemirror_mode": {
    "name": "ipython",
    "version": 3
   },
   "file_extension": ".py",
   "mimetype": "text/x-python",
   "name": "python",
   "nbconvert_exporter": "python",
   "pygments_lexer": "ipython3",
   "version": "3.9.12"
  }
 },
 "nbformat": 4,
 "nbformat_minor": 2
}
