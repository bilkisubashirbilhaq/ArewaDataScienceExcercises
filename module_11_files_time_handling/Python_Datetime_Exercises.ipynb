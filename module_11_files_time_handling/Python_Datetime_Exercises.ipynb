{
 "cells": [
  {
   "cell_type": "markdown",
   "metadata": {},
   "source": [
    "\n",
    "    1. Get the current day, month, year, hour, minute and timestamp from datetime module\n",
    "    2. Format the current date using this format: \"%m/%d/%Y, %H:%M:%S\")\n",
    "    3. Today is 5 December, 2019. Change this time string to time.\n",
    "    4. Calculate the time difference between now and new year.\n",
    "    5. Calculate the time difference between 1 January 1970 and now.\n",
    "    6. Think, what can you use the datetime module for? Examples:\n",
    "        -Time series analysis\n",
    "        -To get a timestamp of any activities in an application\n",
    "        -Adding posts on a blog\n"
   ]
  },
  {
   "cell_type": "code",
   "execution_count": 1,
   "metadata": {},
   "outputs": [
    {
     "name": "stdout",
     "output_type": "stream",
     "text": [
      "Current day: 20\n",
      "Current month: 1\n",
      "Current year: 2025\n",
      "Current hour: 10\n",
      "Current minute: 5\n",
      "Current timestamp: 1737363951.024111\n",
      "Formatted date: 01/20/2025, 10:05:51\n",
      "Time object from string: 2019-12-05 00:00:00\n",
      "Time difference between now and New Year: 345 days, 13:54:08.975889\n",
      "Time difference between 1 January 1970 and now: 20108 days, 10:05:51.024111\n",
      "Examples of using datetime module:\n",
      "- Time series analysis\n",
      "- To get a timestamp of any activities in an application\n",
      "- Adding posts on a blog\n"
     ]
    }
   ],
   "source": [
    "from datetime import datetime, timedelta\n",
    "\n",
    "# Get the current day, month, year, hour, minute and timestamp\n",
    "now = datetime.now()\n",
    "current_day = now.day\n",
    "current_month = now.month\n",
    "current_year = now.year\n",
    "current_hour = now.hour\n",
    "current_minute = now.minute\n",
    "current_timestamp = now.timestamp()\n",
    "\n",
    "# Format the current date\n",
    "formatted_date = now.strftime(\"%m/%d/%Y, %H:%M:%S\")\n",
    "\n",
    "# Change the time string to time\n",
    "time_string = \"5 December, 2019\"\n",
    "time_obj = datetime.strptime(time_string, \"%d %B, %Y\")\n",
    "\n",
    "# Calculate the time difference between now and new year\n",
    "new_year = datetime(current_year + 1, 1, 1)\n",
    "time_diff_new_year = new_year - now\n",
    "\n",
    "# Calculate the time difference between 1 January 1970 and now\n",
    "epoch = datetime(1970, 1, 1)\n",
    "time_diff_epoch = now - epoch\n",
    "\n",
    "# Print results\n",
    "print(f\"Current day: {current_day}\")\n",
    "print(f\"Current month: {current_month}\")\n",
    "print(f\"Current year: {current_year}\")\n",
    "print(f\"Current hour: {current_hour}\")\n",
    "print(f\"Current minute: {current_minute}\")\n",
    "print(f\"Current timestamp: {current_timestamp}\")\n",
    "print(f\"Formatted date: {formatted_date}\")\n",
    "print(f\"Time object from string: {time_obj}\")\n",
    "print(f\"Time difference between now and New Year: {time_diff_new_year}\")\n",
    "print(f\"Time difference between 1 January 1970 and now: {time_diff_epoch}\")\n",
    "\n",
    "# Examples of using datetime module\n",
    "examples = [\n",
    "    \"Time series analysis\",\n",
    "    \"To get a timestamp of any activities in an application\",\n",
    "    \"Adding posts on a blog\"\n",
    "]\n",
    "print(\"Examples of using datetime module:\")\n",
    "for example in examples:\n",
    "    print(f\"- {example}\")"
   ]
  }
 ],
 "metadata": {
  "kernelspec": {
   "display_name": "base",
   "language": "python",
   "name": "python3"
  },
  "language_info": {
   "codemirror_mode": {
    "name": "ipython",
    "version": 3
   },
   "file_extension": ".py",
   "mimetype": "text/x-python",
   "name": "python",
   "nbconvert_exporter": "python",
   "pygments_lexer": "ipython3",
   "version": "3.9.12"
  }
 },
 "nbformat": 4,
 "nbformat_minor": 2
}
