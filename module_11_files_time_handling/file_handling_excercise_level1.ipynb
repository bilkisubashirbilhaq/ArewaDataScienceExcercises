{
 "cells": [
  {
   "cell_type": "markdown",
   "metadata": {},
   "source": [
    "### Exercises: Level 1\n",
    "\n",
    "1. Write a function which count number of lines and number of words in a text. All the files are in the data the folder: a) Read obama_speech.txt file and count number of lines and words b) Read michelle_obama_speech.txt file and count number of lines and words c) Read donald_speech.txt file and count number of lines and words d) Read melina_trump_speech.txt file and count number of lines and words"
   ]
  },
  {
   "cell_type": "code",
   "execution_count": null,
   "metadata": {},
   "outputs": [],
   "source": [
    "def count_lines_and_words(file_path):\n",
    "    with open(file_path, 'r') as file:\n",
    "        lines = file.readlines()\n",
    "        num_lines = len(lines)\n",
    "        num_words = sum(len(line.split()) for line in lines)\n",
    "    return num_lines, num_words\n",
    "\n",
    "# Read and count lines and words for each file\n",
    "files = ['data/obama_speech.txt', 'data/michelle_obama_speech.txt', 'data/donald_speech.txt', 'data/melina_trump_speech.txt']\n",
    "results = {}\n",
    "\n",
    "for file in files:\n",
    "    num_lines, num_words = count_lines_and_words(file)\n",
    "    results[file] = {'lines': num_lines, 'words': num_words}\n",
    "\n",
    "print(results)"
   ]
  },
  {
   "cell_type": "markdown",
   "metadata": {},
   "source": [
    "2. Read the countries_data.json data file in data directory, create a function that finds the ten most spoken languages\n",
    "\n"
   ]
  },
  {
   "cell_type": "code",
   "execution_count": null,
   "metadata": {},
   "outputs": [],
   "source": [
    "import json\n",
    "from collections import Counter\n",
    "\n",
    "def most_spoken_languages(filename, top_n):\n",
    "    with open(filename, 'r') as file:\n",
    "        countries_data = json.load(file)\n",
    "    \n",
    "    languages_counter = Counter()\n",
    "    \n",
    "    for country in countries_data:\n",
    "        languages_counter.update(country['languages'])\n",
    "    \n",
    "    most_common_languages = languages_counter.most_common(top_n)\n",
    "    return most_common_languages\n",
    "\n",
    "# Example usage\n",
    "print(most_spoken_languages(filename='./data/countries_data.json', top_n=10))"
   ]
  },
  {
   "cell_type": "markdown",
   "metadata": {},
   "source": [
    "3. Read the countries_data.json data file in data directory, create a function that creates a list of the ten most populated countries"
   ]
  },
  {
   "cell_type": "code",
   "execution_count": null,
   "metadata": {},
   "outputs": [],
   "source": [
    "def most_populated_countries(filename, top_n):\n",
    "    with open(filename, 'r') as file:\n",
    "        countries_data = json.load(file)\n",
    "    \n",
    "    sorted_countries = sorted(countries_data, key=lambda x: x['population'], reverse=True)\n",
    "    most_populated = sorted_countries[:top_n]\n",
    "    return [(country['name'], country['population']) for country in most_populated]\n",
    "\n",
    "# Example usage\n",
    "print(most_populated_countries(filename='./data/countries_data.json', top_n=10))"
   ]
  },
  {
   "cell_type": "markdown",
   "metadata": {},
   "source": []
  }
 ],
 "metadata": {
  "kernelspec": {
   "display_name": "base",
   "language": "python",
   "name": "python3"
  },
  "language_info": {
   "codemirror_mode": {
    "name": "ipython",
    "version": 3
   },
   "file_extension": ".py",
   "mimetype": "text/x-python",
   "name": "python",
   "nbconvert_exporter": "python",
   "pygments_lexer": "ipython3",
   "version": "3.9.12"
  }
 },
 "nbformat": 4,
 "nbformat_minor": 2
}
