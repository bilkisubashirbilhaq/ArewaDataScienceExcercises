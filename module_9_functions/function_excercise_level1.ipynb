{
 "cells": [
  {
   "cell_type": "markdown",
   "metadata": {},
   "source": [
    "### Exercises: Level 1\n",
    "1. Declare a function add_two_numbers. It takes two parameters and it returns a sum.\n",
    "2. Area of a circle is calculated as follows: area = π x r x r. Write a function that calculates area_of_circle.\n",
    "3. Write a function called add_all_nums which takes arbitrary number of arguments and sums all the arguments. Check if   all the list items are number types. If not do give a reasonable feedback."
   ]
  },
  {
   "cell_type": "code",
   "execution_count": 1,
   "metadata": {},
   "outputs": [],
   "source": [
    "#Declare a function add_two_numbers. It takes two parameters and it returns a sum.\n",
    "def add_two_numbers(a, b):\n",
    "    return a + b    "
   ]
  },
  {
   "cell_type": "code",
   "execution_count": null,
   "metadata": {},
   "outputs": [],
   "source": [
    "#Area of a circle is calculated as follows: area = π x r x r. Write a function that calculates area_of_circle.\n",
    "def area_of_circle(r):\n",
    "    return 3.14 * r * r      "
   ]
  },
  {
   "cell_type": "code",
   "execution_count": null,
   "metadata": {},
   "outputs": [],
   "source": [
    "   \n",
    "#Write a function called add_all_nums which takes an arbitrary number of arguments and sums all the arguments. Check if all the list items are number types. If not do give a reasonable feedback.\n",
    "def add_all_nums(*args):\n",
    "    sum = 0\n",
    "    for i in args:\n",
    "        if type(i) == int:\n",
    "            sum += i\n",
    "        else:\n",
    "            return \"Invalid input\"\n",
    "    return sum\n"
   ]
  }
 ],
 "metadata": {
  "kernelspec": {
   "display_name": "base",
   "language": "python",
   "name": "python3"
  },
  "language_info": {
   "codemirror_mode": {
    "name": "ipython",
    "version": 3
   },
   "file_extension": ".py",
   "mimetype": "text/x-python",
   "name": "python",
   "nbconvert_exporter": "python",
   "pygments_lexer": "ipython3",
   "version": "3.9.12"
  }
 },
 "nbformat": 4,
 "nbformat_minor": 2
}
