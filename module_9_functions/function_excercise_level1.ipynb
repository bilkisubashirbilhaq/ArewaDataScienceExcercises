{
 "cells": [
  {
   "cell_type": "markdown",
   "metadata": {},
   "source": [
    "### Exercises: Level 1\n",
    "1. Declare a function add_two_numbers. It takes two parameters and it returns a sum.\n",
    "2. Area of a circle is calculated as follows: area = π x r x r. Write a function that calculates area_of_circle.\n",
    "3. Write a function called add_all_nums which takes arbitrary number of arguments and sums all the arguments. Check if   all the list items are number types. If not do give a reasonable feedback."
   ]
  },
  {
   "cell_type": "code",
   "execution_count": null,
   "metadata": {},
   "outputs": [],
   "source": [
    "#Declare a function add_two_numbers. It takes two parameters and it returns a sum.\n",
    "def add_two_numbers(a, b):\n",
    "    return a + b    "
   ]
  },
  {
   "cell_type": "code",
   "execution_count": 2,
   "metadata": {},
   "outputs": [],
   "source": [
    "#Area of a circle is calculated as follows: area = π x r x r. Write a function that calculates area_of_circle.\n",
    "def area_of_circle(r):\n",
    "    return 3.14 * r * r      "
   ]
  },
  {
   "cell_type": "code",
   "execution_count": 3,
   "metadata": {},
   "outputs": [],
   "source": [
    "   \n",
    "#Write a function called add_all_nums which takes an arbitrary number of arguments and sums all the arguments. Check if all the list items are number types. If not do give a reasonable feedback.\n",
    "def add_all_nums(*args):\n",
    "    sum = 0\n",
    "    for i in args:\n",
    "        if type(i) == int:\n",
    "            sum += i\n",
    "        else:\n",
    "            return \"Invalid input\"\n",
    "    return sum\n"
   ]
  },
  {
   "cell_type": "markdown",
   "metadata": {},
   "source": [
    "4. Temperature in °C can be converted to °F using this formula: °F = (°C x 9/5) + 32. Write a function which converts °C to °F, convert_celsius_to-fahrenheit.\n"
   ]
  },
  {
   "cell_type": "code",
   "execution_count": 4,
   "metadata": {},
   "outputs": [],
   "source": [
    "def convert_celsius_to_fahrenheit  (celsius):\n",
    "    return (celsius * 9/5) + 32 "
   ]
  },
  {
   "cell_type": "markdown",
   "metadata": {},
   "source": [
    "5. Write a function called check-season, it takes a month parameter and returns the season: Autumn, Winter, Spring or Summer."
   ]
  },
  {
   "cell_type": "code",
   "execution_count": 5,
   "metadata": {},
   "outputs": [],
   "source": [
    "def check_season (month):\n",
    "    if month in ['September', 'October', 'November']:\n",
    "        return 'Autumn'\n",
    "    elif month in ['December', 'January', 'February']:\n",
    "        return 'Winter'\n",
    "    elif month in ['March', 'April', 'May']:\n",
    "        return 'Spring'\n",
    "    elif month in ['June', 'July', 'August']:\n",
    "        return 'Summer'\n",
    "    else:\n",
    "        return 'Invalid input'"
   ]
  },
  {
   "cell_type": "markdown",
   "metadata": {},
   "source": [
    "6. Write a function called calculate_slope which return the slope of a linear equation\n"
   ]
  },
  {
   "cell_type": "code",
   "execution_count": 6,
   "metadata": {},
   "outputs": [],
   "source": [
    "def calculate_slope ():\n",
    "    x1 = int(input('Enter x1: '))\n",
    "    y1 = int(input('Enter y1: '))\n",
    "    x2 = int(input('Enter x2: '))\n",
    "    y2 = int(input('Enter y2: '))\n",
    "    return (y2-y1)/(x2-x1)"
   ]
  },
  {
   "cell_type": "markdown",
   "metadata": {},
   "source": [
    "7. Quadratic equation is calculated as follows: ax² + bx + c = 0. Write a function which calculates solution set of a quadratic equation, solve_quadratic_eqn.\n"
   ]
  },
  {
   "cell_type": "code",
   "execution_count": 7,
   "metadata": {},
   "outputs": [],
   "source": [
    "def solve_quadratic_eqn ():\n",
    "    a = int(input('Enter a: '))\n",
    "    b = int(input('Enter b: '))\n",
    "    c = int(input('Enter c: '))\n",
    "    x1 = (-b + ((b**2) - 4*a*c)**0.5) / 2*a\n",
    "    x2 = (-b - ((b**2) - 4*a*c)**0.5) / 2*a\n",
    "    return x1, x2"
   ]
  },
  {
   "cell_type": "markdown",
   "metadata": {},
   "source": [
    "8. Declare a function named print_list. It takes a list as a parameter and it prints out each element of the list."
   ]
  },
  {
   "cell_type": "code",
   "execution_count": 8,
   "metadata": {},
   "outputs": [],
   "source": [
    "def print_list():\n",
    "    lst = [1, 2, 3, 4]\n",
    "    for i in lst:\n",
    "        print(i)"
   ]
  },
  {
   "cell_type": "markdown",
   "metadata": {},
   "source": [
    "9. Declare a function named reverse_list. It takes an array as a parameter and it returns the reverse of the array (use loops).\n",
    "\n",
    "print(reverse_list([1, 2, 3, 4, 5]))\n",
    "# [5, 4, 3, 2, 1]\n",
    "print(reverse_list1([\"A\", \"B\", \"C\"]))\n",
    "# [\"C\", \"B\", \"A\"]"
   ]
  },
  {
   "cell_type": "code",
   "execution_count": 12,
   "metadata": {},
   "outputs": [
    {
     "name": "stdout",
     "output_type": "stream",
     "text": [
      "[5, 4, 3, 2, 1]\n",
      "['C', 'B', 'A']\n"
     ]
    }
   ],
   "source": [
    "def reverse_list(arr):\n",
    "    reversed_arr = []\n",
    "    for i in range(len(arr) - 1, -1, -1):\n",
    "        reversed_arr.append(arr[i])\n",
    "    return reversed_arr\n",
    "\n",
    "print(reverse_list([1, 2, 3, 4, 5]))\n",
    "# [5, 4, 3, 2, 1]\n",
    "print(reverse_list([\"A\", \"B\", \"C\"]))\n",
    "# [\"C\", \"B\", \"A\"]"
   ]
  },
  {
   "cell_type": "code",
   "execution_count": 9,
   "metadata": {},
   "outputs": [],
   "source": [
    "def reverse_list():\n",
    "    lst = [1, 2, 3, 4]\n",
    "    return lst[::-1]"
   ]
  },
  {
   "cell_type": "markdown",
   "metadata": {},
   "source": [
    "10.Declare a function named capitalize_list_items. It takes a list as a parameter and it returns a capitalized list of items"
   ]
  },
  {
   "cell_type": "code",
   "execution_count": 10,
   "metadata": {},
   "outputs": [],
   "source": [
    "def capitalize_list_items(lst):\n",
    "    return [item.capitalize() for item in lst]"
   ]
  },
  {
   "cell_type": "markdown",
   "metadata": {},
   "source": [
    "\n",
    "11.Declare a function named add_item. It takes a list and an item parameters. It returns a list with the item added at the end.\n",
    "food_staff = ['Potato', 'Tomato', 'Mango', 'Milk']\n",
    "print(add_item(food_staff, 'Meat'))     # ['Potato', 'Tomato', 'Mango', 'Milk','Meat']\n",
    "numbers = [2, 3, 7, 9]\n",
    "print(add_item(numbers, 5))      [2, 3, 7, 9, 5]\n"
   ]
  },
  {
   "cell_type": "code",
   "execution_count": 11,
   "metadata": {},
   "outputs": [
    {
     "name": "stdout",
     "output_type": "stream",
     "text": [
      "['Potato', 'Tomato', 'Mango', 'Milk', 'Meat']\n",
      "[2, 3, 7, 9, 5]\n"
     ]
    }
   ],
   "source": [
    "def add_item(lst, item):\n",
    "    lst.append(item)\n",
    "    return lst\n",
    "\n",
    "food_staff = ['Potato', 'Tomato', 'Mango', 'Milk']\n",
    "print(add_item(food_staff, 'Meat'))     \n",
    "\n",
    "numbers = [2, 3, 7, 9]\n",
    "print(add_item(numbers, 5))      "
   ]
  },
  {
   "cell_type": "markdown",
   "metadata": {},
   "source": [
    "\n",
    "12. Declare a function named remove_item. It takes a list and an item parameters. It returns a list with the item removed from it.\n",
    "\n",
    "food_staff = ['Potato', 'Tomato', 'Mango', 'Milk']\n",
    "print(remove_item(food_staff, 'Mango'))  # ['Potato', 'Tomato', 'Milk'];\n",
    "numbers = [2, 3, 7, 9]\n",
    "print(remove_item(numbers, 3))  # [2, 7, 9]\n",
    "\n"
   ]
  },
  {
   "cell_type": "code",
   "execution_count": 13,
   "metadata": {},
   "outputs": [
    {
     "name": "stdout",
     "output_type": "stream",
     "text": [
      "['Potato', 'Tomato', 'Milk']\n",
      "[2, 7, 9]\n"
     ]
    }
   ],
   "source": [
    "def remove_item(lst, item):\n",
    "    if item in lst:\n",
    "        lst.remove(item)\n",
    "    return lst\n",
    "\n",
    "food_staff = ['Potato', 'Tomato', 'Mango', 'Milk']\n",
    "print(remove_item(food_staff, 'Mango')) \n",
    "\n",
    "numbers = [2, 3, 7, 9]\n",
    "print(remove_item(numbers, 3))"
   ]
  },
  {
   "cell_type": "markdown",
   "metadata": {},
   "source": [
    "13. Declare a function named sum_of_numbers. It takes a number parameter and it adds all the numbers in that range.\n",
    "\n",
    "print(sum_of_numbers(5))  # 15\n",
    "print(sum_of_numbers(10)) # 55\n",
    "print(sum_of_numbers(100)) # 5050\n",
    "\n"
   ]
  },
  {
   "cell_type": "code",
   "execution_count": 14,
   "metadata": {},
   "outputs": [
    {
     "name": "stdout",
     "output_type": "stream",
     "text": [
      "15\n",
      "55\n",
      "5050\n"
     ]
    }
   ],
   "source": [
    "def sum_of_numbers(n):\n",
    "    return sum(range(1, n + 1))\n",
    "\n",
    "print(sum_of_numbers(5))  # 15\n",
    "print(sum_of_numbers(10)) # 55\n",
    "print(sum_of_numbers(100)) # 5050"
   ]
  },
  {
   "cell_type": "markdown",
   "metadata": {},
   "source": [
    "\n",
    "14. Declare a function named sum_of_odds. It takes a number parameter and it adds all the odd numbers in that range.\n",
    "15. Declare a function named sum_of_even. It takes a number parameter and it adds all the even numbers in that - range.\n",
    "\n"
   ]
  },
  {
   "cell_type": "code",
   "execution_count": 15,
   "metadata": {},
   "outputs": [],
   "source": [
    "def sum_of_odds(n):\n",
    "    return sum(i for i in range(1, n + 1) if i % 2 != 0)\n",
    "\n",
    "def sum_of_even(n):\n",
    "    return sum(i for i in range(1, n + 1) if i % 2 == 0)"
   ]
  }
 ],
 "metadata": {
  "kernelspec": {
   "display_name": "base",
   "language": "python",
   "name": "python3"
  },
  "language_info": {
   "codemirror_mode": {
    "name": "ipython",
    "version": 3
   },
   "file_extension": ".py",
   "mimetype": "text/x-python",
   "name": "python",
   "nbconvert_exporter": "python",
   "pygments_lexer": "ipython3",
   "version": "3.9.12"
  }
 },
 "nbformat": 4,
 "nbformat_minor": 2
}
