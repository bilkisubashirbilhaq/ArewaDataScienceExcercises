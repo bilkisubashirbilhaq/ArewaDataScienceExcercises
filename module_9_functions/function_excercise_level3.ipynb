{
 "cells": [
  {
   "cell_type": "markdown",
   "metadata": {},
   "source": [
    "\n",
    "    1. Write a function called is_prime, which checks if a number is prime.\n",
    "    2. Write a functions which checks if all items are unique in the list.\n",
    "    3. Write a function which checks if all the items of the list are of the same data type.\n",
    "    4. Write a function which check if provided variable is a valid python variable\n",
    "    "
   ]
  },
  {
   "cell_type": "code",
   "execution_count": null,
   "metadata": {},
   "outputs": [],
   "source": [
    "# Question 1 \n",
    "def is_prime(n):\n",
    "    \"\"\"Check if a number is prime.\"\"\"\n",
    "    if n <= 1:\n",
    "        return False\n",
    "    for i in range(2, int(n**0.5) + 1):\n",
    "        if n % i == 0:\n",
    "            return False\n",
    "    return True\n",
    "\n",
    "# Question 2\n",
    "def all_unique(lst):\n",
    "    \"\"\"Check if all items in the list are unique.\"\"\"\n",
    "    return len(lst) == len(set(lst))\n",
    "\n",
    "# Question 3\n",
    "def all_same_type(lst):\n",
    "    \"\"\"Check if all items in the list are of the same data type.\"\"\"\n",
    "    return all(isinstance(x, type(lst[0])) for x in lst)\n",
    "\n",
    "# Question 4\n",
    "def is_valid_variable(var):\n",
    "    \"\"\"Check if the provided variable is a valid Python variable name.\"\"\"\n",
    "    import keyword\n",
    "    if not var.isidentifier() or keyword.iskeyword(var):\n",
    "        return False\n",
    "    return True\n",
    "\n"
   ]
  },
  {
   "cell_type": "markdown",
   "metadata": {},
   "source": [
    "5. Go to the data folder and access the countries-data.py file.\n",
    "\n",
    "    -Create a function called the most_spoken_languages in the world. It should return 10 or 20 most spoken languages in the world in descending order\n",
    "    -Create a function called the most_populated_countries. It should return 10 or 20 most populated countries in descending order.\n",
    "\n"
   ]
  }
 ],
 "metadata": {
  "language_info": {
   "name": "python"
  }
 },
 "nbformat": 4,
 "nbformat_minor": 2
}
