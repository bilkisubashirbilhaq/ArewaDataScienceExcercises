{
 "cells": [
  {
   "cell_type": "markdown",
   "metadata": {},
   "source": [
    "\n",
    "    1. Declare a function named evens_and_odds . It takes a positive integer as parameter and it counts number of evens and odds in the number.\n",
    "\n",
    "    print(evens_and_odds(100))\n",
    "    # The number of odds are 50.\n",
    "    # The number of evens are 51.\n",
    "\n"
   ]
  },
  {
   "cell_type": "code",
   "execution_count": null,
   "metadata": {},
   "outputs": [
    {
     "ename": "",
     "evalue": "",
     "output_type": "error",
     "traceback": [
      "\u001b[1;31mFailed to start the Kernel. \n",
      "\u001b[1;31mUnable to start Kernel 'base (Python 3.9.12)' due to a timeout waiting for the ports to get used. \n",
      "\u001b[1;31mView Jupyter <a href='command:jupyter.viewOutput'>log</a> for further details."
     ]
    }
   ],
   "source": [
    "def evens_and_odds(n):\n",
    "    evens = sum(1 for i in range(n + 1) if i % 2 == 0)\n",
    "    odds = n + 1 - evens\n",
    "    return f\"The number of odds are {odds}.\\nThe number of evens are {evens}.\"\n",
    "\n",
    "print(evens_and_odds(100))"
   ]
  },
  {
   "cell_type": "markdown",
   "metadata": {},
   "source": [
    "1. Call your function factorial, it takes a whole number as a parameter and it return a factorial of the number\n",
    "2. Call your function is_empty, it takes a parameter and it checks if it is empty or not\n",
    "3. Write different functions which take lists. They should calculate_mean, calculate_median, calculate_mode, calculate_range, calculate_variance, calculate_std (standard deviation).\n",
    "\n"
   ]
  },
  {
   "cell_type": "code",
   "execution_count": 1,
   "metadata": {},
   "outputs": [],
   "source": [
    "import math\n",
    "import statistics\n",
    "\n",
    "def factorial(n):\n",
    "    if n == 0:\n",
    "        return 1\n",
    "    else:\n",
    "        return n * factorial(n-1)\n",
    "    \n",
    "# Call your function is_empty, it takes a parameter and it checks if it is empty or not\n",
    "\n",
    "def is_empty(param):\n",
    "    return not bool(param)\n",
    "\n",
    "def calculate_mean(lst):\n",
    "    return sum(lst) / len(lst)\n",
    "\n",
    "def calculate_median(lst):\n",
    "    return statistics.median(lst)\n",
    "\n",
    "def calculate_mode(lst):\n",
    "    return statistics.mode(lst)\n",
    "\n",
    "def calculate_range(lst):\n",
    "    return max(lst) - min(lst)\n",
    "\n",
    "def calculate_variance(lst):\n",
    "    return statistics.variance(lst)\n",
    "\n",
    "def calculate_std(lst):\n",
    "    return statistics.stdev(lst)"
   ]
  },
  {
   "cell_type": "markdown",
   "metadata": {},
   "source": []
  }
 ],
 "metadata": {
  "kernelspec": {
   "display_name": "base",
   "language": "python",
   "name": "python3"
  },
  "language_info": {
   "codemirror_mode": {
    "name": "ipython",
    "version": 3
   },
   "file_extension": ".py",
   "mimetype": "text/x-python",
   "name": "python",
   "nbconvert_exporter": "python",
   "pygments_lexer": "ipython3",
   "version": "3.9.12"
  }
 },
 "nbformat": 4,
 "nbformat_minor": 2
}
