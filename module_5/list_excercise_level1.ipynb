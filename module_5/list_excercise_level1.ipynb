{
 "cells": [
  {
   "cell_type": "markdown",
   "metadata": {},
   "source": [
    "## List\n",
    "Exercises: Level 1\n",
    "1. Declare an empty list\n",
    "2. Declare a list with more than 5 items\n",
    "3. Find the length of your list\n",
    "4. Get the first item, the middle item and the last item of the list\n",
    "5. Declare a list called mixed_data_types, put your(name, age, height, marital status, address)\n"
   ]
  },
  {
   "cell_type": "code",
   "execution_count": 19,
   "metadata": {},
   "outputs": [
    {
     "name": "stdout",
     "output_type": "stream",
     "text": [
      "['meat', 'maggi', 'fish', 'beans', 'salt', 'rice', 'spaggetti']\n",
      "7\n",
      "meat\n",
      "salt\n",
      "rice\n",
      "['name', 32, 3.2, 'married', 'railway kano']\n"
     ]
    }
   ],
   "source": [
    "empty_list = list()\n",
    "empty_list = []\n",
    "\n",
    "#list with 5 items\n",
    "shopping_list = ['meat', 'maggi', 'fish', 'beans', 'salt', 'rice','spaggetti']\n",
    "print ( shopping_list)\n",
    "\n",
    "#length of the list\n",
    "print(len(shopping_list))\n",
    "\n",
    "# Get the first item, the middle item and the last item of the list\n",
    "print(shopping_list[0])\n",
    "print(shopping_list[4])\n",
    "print(shopping_list[5])\n",
    "\n",
    "#Declare a list called mixed_data_types, put your(name, age, height, marital status, address)\n",
    "mixed_data_types = ['name', 32, 3.2, 'married', 'railway kano']\n",
    "print(mixed_data_types)"
   ]
  },
  {
   "cell_type": "markdown",
   "metadata": {},
   "source": [
    "6. Declare a list variable named it_companies and assign initial values Facebook, Google, Microsoft, Apple, IBM, Oracle and Amazon.\n",
    "\n",
    "7. Print the list using print()\n",
    "\n",
    "8. Print the number of companies in the list\n",
    "\n",
    "9. Print the first, middle and last company\n",
    "\n",
    "10.Print the list after modifying one of the companies\n",
    " "
   ]
  },
  {
   "cell_type": "code",
   "execution_count": 34,
   "metadata": {},
   "outputs": [
    {
     "name": "stdout",
     "output_type": "stream",
     "text": [
      "['Facebook', 'Google', 'Microsoft', 'Apple', 'IBM', 'Oracle', 'Amazon']\n",
      "7\n",
      "Facebook\n",
      "Apple\n",
      "Amazon\n",
      "['Facebook', 'Microsoft', 'Apple', 'IBM', 'Oracle', 'Amazon']\n"
     ]
    }
   ],
   "source": [
    "#we are declaring a varible\n",
    "it_companies = ['Facebook', 'Google', 'Microsoft', 'Apple', 'IBM', 'Oracle', 'Amazon']\n",
    "print(it_companies)\n",
    "print(len(it_companies))\n",
    "print(it_companies[0])\n",
    "print(it_companies[3])\n",
    "print(it_companies[-1])\n",
    "\n",
    "#modifiying a list\n",
    "del it_companies[1]\n",
    "print(it_companies)"
   ]
  },
  {
   "cell_type": "markdown",
   "metadata": {},
   "source": [
    "11. Add an IT company to it_companies\n",
    "12. Insert an IT company in the middle of the companies list\n",
    "13. Change one of the it_companies names to uppercase (IBM excluded!)\n",
    "14. Join the it_companies with a string '#;  '\n",
    "15. Check if a certain company exists in the it_companies list."
   ]
  },
  {
   "cell_type": "code",
   "execution_count": null,
   "metadata": {},
   "outputs": [
    {
     "name": "stdout",
     "output_type": "stream",
     "text": [
      "After inserting in the middle: ['Facebook', 'MICROSOFT', 'Apple', 'IT company', 'IT company', 'IT company', 'IT company', 'IBM', 'Oracle', 'Amazon', 'IT company', 'IT company', 'IT company', 'IT company']\n",
      "After changing to uppercase: ['Facebook', 'MICROSOFT', 'Apple', 'IT company', 'IT company', 'IT company', 'IT company', 'IBM', 'Oracle', 'Amazon', 'IT company', 'IT company', 'IT company', 'IT company']\n",
      "Joined companies: Facebook#; MICROSOFT#; Apple#; IT company#; IT company#; IT company#; IT company#; IBM#; Oracle#; Amazon#; IT company#; IT company#; IT company#; IT company\n",
      "IT company exist in the list? True\n"
     ]
    }
   ],
   "source": [
    "#adding IT company\n",
    "it_companies = ['Facebook', 'Google', 'Microsoft', 'Apple', 'IBM', 'Oracle', 'Amazon']\n",
    "it_companies.append('IT company')\n",
    "\n",
    "#to add the company to the middle of the list\n",
    "middle_index = len(it_companies) // 2\n",
    "it_companies.insert(middle_index, 'IT company')\n",
    "print(f\"After inserting in the middle: {it_companies}\")\n",
    "\n",
    "\n",
    "# To Change one of the IT companies' names to uppercase (IBM excluded!)\n",
    "it_companies[1] = it_companies[1].upper()  \n",
    "print(f\"After changing to uppercase: {it_companies}\")\n",
    "\n",
    "#Join the IT companies with the string '#;  '\n",
    "joined_it_companies = '#; '.join(it_companies)\n",
    "print(f\"Joined companies: {joined_it_companies}\")\n",
    "\n",
    "#Check if a certain company exists in the list\n",
    "company_to_check = 'IT company'\n",
    "is_company_in_list = company_to_check in it_companies\n",
    "print(f\"{company_to_check} exist in the list? {is_company_in_list}\")\n"
   ]
  },
  {
   "cell_type": "markdown",
   "metadata": {},
   "source": [
    "16. Sort the list using sort() method\n",
    "17. Reverse the list in descending order using reverse() method\n",
    "18. Slice out the first 3 companies from the list\n",
    "19. Slice out the last 3 companies from the list\n",
    "20. Slice out the middle IT company or companies from the list\n"
   ]
  },
  {
   "cell_type": "code",
   "execution_count": 41,
   "metadata": {},
   "outputs": [
    {
     "name": "stdout",
     "output_type": "stream",
     "text": [
      "Sorted list: ['Oracle', 'Microsoft', 'IBM', 'Google', 'Facebook', 'Apple', 'Amazon']\n",
      "Reversed (descending order) list: ['Oracle', 'Microsoft', 'IBM', 'Google', 'Facebook', 'Apple', 'Amazon']\n",
      "First 3 companies: ['Oracle', 'Microsoft', 'IBM']\n",
      "Last 3 companies: ['Facebook', 'Apple', 'Amazon']\n",
      "Middle IT company/companies: ['Google']\n"
     ]
    }
   ],
   "source": [
    "#sort the list using sort()\n",
    "it_companies = ['Facebook', 'Google', 'Microsoft', 'Apple', 'IBM', 'Oracle', 'Amazon']\n",
    "it_companies.sort()\n",
    "it_companies.sort(reverse=True)\n",
    "print(f\"Sorted list: {it_companies}\")\n",
    "print(f\"Reversed (descending order) list: {it_companies}\")\n",
    "\n",
    "#Slice out the first 3 companies from the list\n",
    "first_three = it_companies[:3]\n",
    "print(f\"First 3 companies: {first_three}\")\n",
    "\n",
    "#Slice out the last 3 companies from the list\n",
    "last_three = it_companies[-3:]\n",
    "print(f\"Last 3 companies: {last_three}\")\n",
    "\n",
    "#Slice out the middle IT company or companies from the list\n",
    "length = len(it_companies)\n",
    "if length % 2 == 0:  # Even number of companies\n",
    "    middle_companies = it_companies[length//2 - 1 : length//2 + 1]\n",
    "else:  # Odd number of companies\n",
    "    middle_companies = [it_companies[length//2]]\n",
    "print(f\"Middle IT company/companies: {middle_companies}\")\n",
    "\n"
   ]
  },
  {
   "cell_type": "markdown",
   "metadata": {},
   "source": [
    "21. Remove the first IT company from the list\n",
    "22. Remove the middle IT company or companies from the list\n",
    "23. Remove the last IT company from the list\n",
    "24. Remove all IT companies from the list\n",
    "25. Destroy the IT companies list\n"
   ]
  },
  {
   "cell_type": "code",
   "execution_count": 54,
   "metadata": {},
   "outputs": [
    {
     "name": "stdout",
     "output_type": "stream",
     "text": [
      "['Facebook', 'Google', 'Microsoft', 'Apple', 'IBM', 'Oracle', 'Amazon']\n",
      "['Google', 'Microsoft', 'Apple', 'IBM', 'Oracle', 'Amazon']\n",
      "After removing the middle company/companies: ['Google', 'Microsoft', 'Oracle', 'Amazon']\n",
      "After removing the last company: ['Google', 'Microsoft', 'Oracle']\n",
      "After removing all companies: []\n"
     ]
    }
   ],
   "source": [
    "\n",
    "it_companies = ['Facebook', 'Google', 'Microsoft', 'Apple', 'IBM', 'Oracle', 'Amazon']\n",
    "#Remove the first company\n",
    "print(it_companies)\n",
    "del it_companies[0]\n",
    "print(it_companies)\n",
    "\n",
    "#Remove the middle IT company or companies from the list\n",
    "length = len(it_companies)\n",
    "if length % 2 == 0:  # Even number of companies\n",
    "    middle_start = length // 2 - 1\n",
    "    del it_companies[middle_start:middle_start + 2] \n",
    "else:  # Odd number of companies\n",
    "    middle_index = length // 2\n",
    "    del it_companies[middle_index]  # Remove the single middle company\n",
    "print(f\"After removing the middle company/companies: {it_companies}\")\n",
    "\n",
    "#Remove the last IT company from the list\n",
    "del it_companies[-1] \n",
    "print(f\"After removing the last company: {it_companies}\")\n",
    "\n",
    "#Remove all IT companies from the list\n",
    "it_companies.clear()  # Clear all elements from the list\n",
    "print(f\"After removing all companies: {it_companies}\")\n",
    "\n",
    "#Destroy the IT companies list\n",
    "del it_companies  # Completely delete the list\n",
    "#print(it_companies)  # This will raise an error because the list no longer exists\n"
   ]
  },
  {
   "cell_type": "markdown",
   "metadata": {},
   "source": [
    "26. Join the following lists:\n",
    "front_end = ['HTML', 'CSS', 'JS', 'React', 'Redux']\n",
    "back_end = ['Node','Express', 'MongoDB']\n",
    "27. After joining the lists in question 26. Copy the joined list and assign it to a variable full_stack, then insert Python and SQL after Redux."
   ]
  },
  {
   "cell_type": "code",
   "execution_count": 55,
   "metadata": {},
   "outputs": [
    {
     "name": "stdout",
     "output_type": "stream",
     "text": [
      "Joined list: ['HTML', 'CSS', 'JS', 'React', 'Redux', 'Node', 'Express', 'MongoDB']\n",
      "Full stack after inserting Python and SQL: ['HTML', 'CSS', 'JS', 'React', 'Redux', 'Python', 'SQL', 'Node', 'Express', 'MongoDB']\n"
     ]
    }
   ],
   "source": [
    "# Join the two lists\n",
    "front_end = ['HTML', 'CSS', 'JS', 'React', 'Redux']\n",
    "back_end = ['Node', 'Express', 'MongoDB']\n",
    "\n",
    "# Join the lists\n",
    "joined_list = front_end + back_end\n",
    "print(f\"Joined list: {joined_list}\")\n",
    "\n",
    "#Copy the joined list and assign it to a new variable full_stack\n",
    "full_stack = joined_list.copy()\n",
    "\n",
    "# Insert Python and SQL after Redux\n",
    "redux_index = full_stack.index('Redux')  # Find the index of 'Redux'\n",
    "full_stack.insert(redux_index + 1, 'Python')  # Insert Python after Redux\n",
    "full_stack.insert(redux_index + 2, 'SQL')  # Insert SQL after Python\n",
    "print(f\"Full stack after inserting Python and SQL: {full_stack}\")\n"
   ]
  }
 ],
 "metadata": {
  "kernelspec": {
   "display_name": "base",
   "language": "python",
   "name": "python3"
  },
  "language_info": {
   "codemirror_mode": {
    "name": "ipython",
    "version": 3
   },
   "file_extension": ".py",
   "mimetype": "text/x-python",
   "name": "python",
   "nbconvert_exporter": "python",
   "pygments_lexer": "ipython3",
   "version": "3.9.12"
  }
 },
 "nbformat": 4,
 "nbformat_minor": 2
}
