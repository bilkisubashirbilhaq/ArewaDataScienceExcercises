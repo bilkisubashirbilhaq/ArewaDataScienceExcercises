{
 "cells": [
  {
   "cell_type": "markdown",
   "metadata": {},
   "source": [
    "##Sets Exercises: Level 2\n",
    "\n",
    "    1Join A and B\n",
    "    2.Find A intersection B\n",
    "    3.Is A subset of B\n",
    "    4.Are A and B disjoint sets\n",
    "    5.Join A with B and B with A\n",
    "    6.What is the symmetric difference between A and B\n",
    "    7.Delete the sets completely\n",
    "\n"
   ]
  },
  {
   "cell_type": "code",
   "execution_count": 1,
   "metadata": {},
   "outputs": [
    {
     "name": "stdout",
     "output_type": "stream",
     "text": [
      "Union of A and B: {19, 20, 22, 24, 25, 26, 27, 28}\n",
      "Intersection of A and B: {19, 20, 22, 24, 25, 26}\n",
      "Is A a subset of B? True\n",
      "Are A and B disjoint sets? False\n",
      "Join A with B: {19, 20, 22, 24, 25, 26, 27, 28}\n",
      "Join B with A: {19, 20, 22, 24, 25, 26, 27, 28}\n",
      "Symmetric difference between A and B: {27, 28}\n",
      "Error: name 'A' is not defined\n"
     ]
    }
   ],
   "source": [
    "# Given sets\n",
    "A = {19, 22, 24, 20, 25, 26}\n",
    "B = {19, 22, 20, 25, 26, 24, 28, 27}\n",
    "\n",
    "#To Join A and B\n",
    "A_union_B = A.union(B)\n",
    "print(f\"Union of A and B: {A_union_B}\")\n",
    "\n",
    "#Find A intersection B\n",
    "A_intersection_B = A.intersection(B)\n",
    "print(f\"Intersection of A and B: {A_intersection_B}\")\n",
    "\n",
    "#Is A a subset of B\n",
    "is_A_subset_of_B = A.issubset(B)\n",
    "print(f\"Is A a subset of B? {is_A_subset_of_B}\")\n",
    "\n",
    "# Are A and B disjoint sets\n",
    "are_A_and_B_disjoint = A.isdisjoint(B)\n",
    "print(f\"Are A and B disjoint sets? {are_A_and_B_disjoint}\")\n",
    "\n",
    "# Join A with B and B with A (this is essentially the same as union)\n",
    "A_with_B = A.union(B)\n",
    "B_with_A = B.union(A)\n",
    "print(f\"Join A with B: {A_with_B}\")\n",
    "print(f\"Join B with A: {B_with_A}\")\n",
    "\n",
    "# What is the symmetric difference between A and B\n",
    "A_symmetric_difference_B = A.symmetric_difference(B)\n",
    "print(f\"Symmetric difference between A and B: {A_symmetric_difference_B}\")\n",
    "\n",
    "# Delete the sets completely\n",
    "del A\n",
    "del B\n",
    "try:\n",
    "    print(A)  # Will raise an error because A is deleted\n",
    "except NameError as e:\n",
    "    print(f\"Error: {e}\")\n"
   ]
  }
 ],
 "metadata": {
  "kernelspec": {
   "display_name": "base",
   "language": "python",
   "name": "python3"
  },
  "language_info": {
   "codemirror_mode": {
    "name": "ipython",
    "version": 3
   },
   "file_extension": ".py",
   "mimetype": "text/x-python",
   "name": "python",
   "nbconvert_exporter": "python",
   "pygments_lexer": "ipython3",
   "version": "3.9.12"
  }
 },
 "nbformat": 4,
 "nbformat_minor": 2
}
