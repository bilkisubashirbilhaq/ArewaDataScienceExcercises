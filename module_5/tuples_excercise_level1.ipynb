{
 "cells": [
  {
   "cell_type": "markdown",
   "metadata": {},
   "source": [
    "## Tuples\n",
    "Level 1 Tuple excercises\n",
    "    1.Create an empty tuple\n",
    "    2.Create a tuple containing names of your sisters and your brothers (imaginary siblings are fine)\n",
    "    3.Join brothers and sisters tuples and assign it to siblings\n",
    "    4.How many siblings do you have?\n",
    "    5.Modify the siblings tuple and add the name of your father and mother and assign it to family_members"
   ]
  },
  {
   "cell_type": "code",
   "execution_count": 11,
   "metadata": {},
   "outputs": [
    {
     "name": "stdout",
     "output_type": "stream",
     "text": [
      "my sisters are:('Bilkisu', 'Aisha', 'Zainab')\n",
      "my sisters are:('Aliyu', 'Umar', 'Alamin', 'Sadiq')\n",
      "my siblings are :('Bilkisu', 'Aisha', 'Zainab', 'Aliyu', 'Umar', 'Alamin', 'Sadiq')\n",
      "Family members: ('Bilkisu', 'Aisha', 'Zainab', 'Aliyu', 'Umar', 'Alamin', 'Sadiq', 'Baba', 'Mama')\n"
     ]
    }
   ],
   "source": [
    "sisters = ()\n",
    "brothers = tuple()\n",
    "sisters =('Bilkisu', 'Aisha', 'Zainab' )\n",
    "brothers = ('Aliyu', 'Umar', 'Alamin', 'Sadiq')\n",
    "siblings = sisters + brothers\n",
    "print(f'my sisters are:{sisters}')\n",
    "print(f'my sisters are:{brothers}')\n",
    "print(f\"my siblings are :{siblings}\")\n",
    "len(siblings)\n",
    "\n",
    "#modify the tuple\n",
    "parents = ('Baba', 'Mama')  # Names of parents\n",
    "family_members = siblings + parents\n",
    "print(f\"Family members: {family_members}\")\n",
    "\n"
   ]
  }
 ],
 "metadata": {
  "kernelspec": {
   "display_name": "base",
   "language": "python",
   "name": "python3"
  },
  "language_info": {
   "codemirror_mode": {
    "name": "ipython",
    "version": 3
   },
   "file_extension": ".py",
   "mimetype": "text/x-python",
   "name": "python",
   "nbconvert_exporter": "python",
   "pygments_lexer": "ipython3",
   "version": "3.9.12"
  }
 },
 "nbformat": 4,
 "nbformat_minor": 2
}
