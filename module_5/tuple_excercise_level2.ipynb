{
 "cells": [
  {
   "cell_type": "markdown",
   "metadata": {},
   "source": [
    "##Tuples level 2 excercises\n",
    "\n",
    "    1.Unpack siblings and parents from family_members\n",
    "    2.Create fruits, vegetables and animal products tuples. Join the three tuples and assign it to a variable called food_stuff_tp.\n",
    "    3.Change the about food_stuff_tp tuple to a food_stuff_lt list\n",
    "    4.Slice out the middle item or items from the food_stuff_tp tuple or food_stuff_lt list.\n",
    "    5.Slice out the first three items and the last three items from food_staff_lt list\n",
    "    6.Delete the food_staff_tp tuple completely\n",
    "    7.Check if an item exists in tuple:\n",
    "\n",
    "    .Check if 'Estonia' is a nordic country\n",
    "\n",
    "    .Check if 'Iceland' is a nordic country\n",
    "\n",
    "    nordic_countries = ('Denmark', 'Finland','Iceland', 'Norway', 'Sweden')\n"
   ]
  },
  {
   "cell_type": "code",
   "execution_count": 5,
   "metadata": {},
   "outputs": [
    {
     "name": "stdout",
     "output_type": "stream",
     "text": [
      "Siblings: ['Bilkisu', 'Aisha', 'Zainab', 'Aliyu', 'Umar', 'Alamin', 'Sadiq']\n",
      "parents: ('Baba', 'Mama')\n",
      "Food stuff tuple: ('Apple', 'Banana', 'Orange', 'Mango', 'Pea', 'Carrot', 'Broccoli', 'Spinach', 'Milk', 'Cheese', 'Eggs')\n",
      "Food stuff list: ['Apple', 'Banana', 'Orange', 'Mango', 'Pea', 'Carrot', 'Broccoli', 'Spinach', 'Milk', 'Cheese', 'Eggs']\n",
      "Middle item(s): Carrot\n",
      "First three items: ['Apple', 'Banana', 'Orange']\n",
      "Last three items: ['Milk', 'Cheese', 'Eggs']\n",
      "Is Estonia a Nordic country? False\n",
      "Is Iceland a Nordic country? True\n"
     ]
    }
   ],
   "source": [
    "#Unpack siblings and parents from family_members\n",
    "\n",
    "family_members = ('Bilkisu', 'Aisha', 'Zainab', 'Aliyu', 'Umar', 'Alamin', 'Sadiq', 'Baba', 'Mama')\n",
    "parents = ('Baba', 'Mama')  # Names of parents\n",
    "\n",
    "#siblings, father, mother = family_members\n",
    "print(f\"Siblings: {siblings}\")\n",
    "print(f\"parents: {parents}\")\n",
    "\n",
    "#Create fruits, vegetables, and animal products tuples\n",
    "fruits = ('Apple', 'Banana', 'Orange', 'Mango', 'Pea')\n",
    "vegetables = ('Carrot', 'Broccoli', 'Spinach')\n",
    "animal_products = ('Milk', 'Cheese', 'Eggs')\n",
    "\n",
    "# Join the three tuples into food_stuff_tp\n",
    "food_stuff_tp = fruits + vegetables + animal_products\n",
    "print(f\"Food stuff tuple: {food_stuff_tp}\")\n",
    "\n",
    "#Change food_stuff_tp tuple to a food_stuff_lt list\n",
    "food_stuff_lt = list(food_stuff_tp)\n",
    "print(f\"Food stuff list: {food_stuff_lt}\")\n",
    "\n",
    "#Slice out the middle item or items\n",
    "length = len(food_stuff_lt)\n",
    "if length % 2 == 0:  # If even, take the two middle items\n",
    "    middle_items = food_stuff_lt[length // 2 - 1:length // 2 + 1]\n",
    "else:  # If odd, take the single middle item\n",
    "    middle_items = food_stuff_lt[length // 2]\n",
    "print(f\"Middle item(s): {middle_items}\")\n",
    "\n",
    "#Slice out the first three and last three items from the list\n",
    "first_three = food_stuff_lt[:3]\n",
    "last_three = food_stuff_lt[-3:]\n",
    "print(f\"First three items: {first_three}\")\n",
    "print(f\"Last three items: {last_three}\")\n",
    "\n",
    "#Delete the food_stuff_tp tuple completely\n",
    "del food_stuff_tp\n",
    "#print(food_stuff_tp)\n",
    "\n",
    "#Check if an item exists in a tuple\n",
    "nordic_countries = ('Denmark', 'Finland', 'Iceland', 'Norway', 'Sweden')\n",
    "\n",
    "# Check if 'Estonia' is a Nordic country\n",
    "is_estonia_nordic = 'Estonia' in nordic_countries\n",
    "print(f\"Is Estonia a Nordic country? {is_estonia_nordic}\")\n",
    "\n",
    "# Check if 'Iceland' is a Nordic country\n",
    "is_iceland_nordic = 'Iceland' in nordic_countries\n",
    "print(f\"Is Iceland a Nordic country? {is_iceland_nordic}\")\n",
    "\n"
   ]
  }
 ],
 "metadata": {
  "kernelspec": {
   "display_name": "base",
   "language": "python",
   "name": "python3"
  },
  "language_info": {
   "codemirror_mode": {
    "name": "ipython",
    "version": 3
   },
   "file_extension": ".py",
   "mimetype": "text/x-python",
   "name": "python",
   "nbconvert_exporter": "python",
   "pygments_lexer": "ipython3",
   "version": "3.9.12"
  }
 },
 "nbformat": 4,
 "nbformat_minor": 2
}
