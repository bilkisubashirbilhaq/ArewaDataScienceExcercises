{
 "cells": [
  {
   "cell_type": "markdown",
   "metadata": {},
   "source": [
    "##Sets Exercises: Level 3\n",
    "    1.Convert the ages to a set and compare the length of the list and the set, which one is bigger?\n",
    "    2.Explain the difference between the following data types: string, list, tuple and set\n",
    "    3.I am a teacher and I love to inspire and teach people. How many unique words have been used in the sentence? Use the split methods and set to get the unique words.\n"
   ]
  },
  {
   "cell_type": "code",
   "execution_count": 2,
   "metadata": {},
   "outputs": [
    {
     "name": "stdout",
     "output_type": "stream",
     "text": [
      "[22, 19, 24, 25, 26, 24, 25, 24]\n",
      "{19, 22, 24, 25, 26}\n",
      "Length of ages list: 8\n",
      "Length of ages set: 5\n",
      "The list is bigger.\n"
     ]
    }
   ],
   "source": [
    "# Given ages list\n",
    "ages = [22, 19, 24, 25, 26, 24, 25, 24]\n",
    "print(ages)\n",
    "# Convert the ages list to a set\n",
    "ages_set = set(ages)\n",
    "print(ages_set)\n",
    "\n",
    "# Compare lengths of the list and the set\n",
    "len_list = len(ages)\n",
    "len_set = len(ages_set)\n",
    "\n",
    "print(f\"Length of ages list: {len_list}\")\n",
    "print(f\"Length of ages set: {len_set}\")\n",
    "\n",
    "if len_list > len_set:\n",
    "    print(\"The list is bigger.\")\n",
    "else:\n",
    "    print(\"The set is bigger (or they are equal).\")\n"
   ]
  }
 ],
 "metadata": {
  "kernelspec": {
   "display_name": "base",
   "language": "python",
   "name": "python3"
  },
  "language_info": {
   "codemirror_mode": {
    "name": "ipython",
    "version": 3
   },
   "file_extension": ".py",
   "mimetype": "text/x-python",
   "name": "python",
   "nbconvert_exporter": "python",
   "pygments_lexer": "ipython3",
   "version": "3.9.12"
  }
 },
 "nbformat": 4,
 "nbformat_minor": 2
}
