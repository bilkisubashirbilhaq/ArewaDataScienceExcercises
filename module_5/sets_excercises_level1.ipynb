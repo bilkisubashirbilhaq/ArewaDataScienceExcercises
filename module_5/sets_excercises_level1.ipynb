{
 "cells": [
  {
   "cell_type": "markdown",
   "metadata": {},
   "source": [
    "##Sets Exercises\n",
    "\n",
    "# sets\n",
    "it_companies = {'Facebook', 'Google', 'Microsoft', 'Apple', 'IBM', 'Oracle', 'Amazon'}\n",
    "A = {19, 22, 24, 20, 25, 26}\n",
    "B = {19, 22, 20, 25, 26, 24, 28, 27}\n",
    "age = [22, 19, 24, 25, 26, 24, 25, 24]\n",
    "\n",
    "Sets Exercises: Level 1\n",
    "\n",
    "    1.Find the length of the set it_companies\n",
    "    2.Add 'Twitter' to it_companies\n",
    "    3.Insert multiple IT companies at once to the set it_companies\n",
    "    4.Remove one of the companies from the set it_companies\n",
    "    5.What is the difference between remove and discard\n",
    "\n"
   ]
  },
  {
   "cell_type": "code",
   "execution_count": 13,
   "metadata": {},
   "outputs": [
    {
     "name": "stdout",
     "output_type": "stream",
     "text": [
      "Length of it_companies: 7\n",
      "{'Amazon', 'Twitter', 'IBM', 'Apple', 'Oracle', 'Microsoft', 'Google', 'Facebook'}\n",
      "{'a', 'w', 'Google', 'e', 'Amazon', 'n', 'Apple', 'm', 'c', 'IBM', 'p', 'Microsoft', 'o', 'y', 'Twitter', 'Facebook', '_', 'Oracle'}\n",
      "{'a', 'w', 'e', 'Amazon', 'n', 'Apple', 'm', 'c', 'IBM', 'p', 'Microsoft', 'o', 'y', 'Twitter', 'Facebook', '_', 'Oracle'}\n"
     ]
    }
   ],
   "source": [
    "it_companies = {'Facebook', 'Google', 'Microsoft', 'Apple', 'IBM', 'Oracle', 'Amazon'}\n",
    "\n",
    "length_it_companies = len(it_companies)\n",
    "print(f\"Length of it_companies: {length_it_companies}\")\n",
    "\n",
    "it_companies.add('Twitter')\n",
    "print(it_companies)\n",
    "\n",
    "#To add multiple items\n",
    "new_comany = \"oracle2\", 'oracle3'\n",
    "it_companies.update('new_company')\n",
    "print(it_companies)\n",
    "\n",
    "it_companies.remove('Google')\n",
    "print(it_companies)\n",
    "\n",
    "\n"
   ]
  }
 ],
 "metadata": {
  "kernelspec": {
   "display_name": "base",
   "language": "python",
   "name": "python3"
  },
  "language_info": {
   "codemirror_mode": {
    "name": "ipython",
    "version": 3
   },
   "file_extension": ".py",
   "mimetype": "text/x-python",
   "name": "python",
   "nbconvert_exporter": "python",
   "pygments_lexer": "ipython3",
   "version": "3.9.12"
  }
 },
 "nbformat": 4,
 "nbformat_minor": 2
}
