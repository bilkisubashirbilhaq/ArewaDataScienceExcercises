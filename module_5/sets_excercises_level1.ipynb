{
 "cells": [
  {
   "cell_type": "markdown",
   "metadata": {},
   "source": [
    "##Sets Exercises\n",
    "\n",
    "# sets\n",
    "it_companies = {'Facebook', 'Google', 'Microsoft', 'Apple', 'IBM', 'Oracle', 'Amazon'}\n",
    "A = {19, 22, 24, 20, 25, 26}\n",
    "B = {19, 22, 20, 25, 26, 24, 28, 27}\n",
    "age = [22, 19, 24, 25, 26, 24, 25, 24]\n",
    "\n",
    "Sets Exercises: Level 1\n",
    "\n",
    "    1.Find the length of the set it_companies\n",
    "    2.Add 'Twitter' to it_companies\n",
    "    3.Insert multiple IT companies at once to the set it_companies\n",
    "    4.Remove one of the companies from the set it_companies\n",
    "    5.What is the difference between remove and discard\n",
    "\n"
   ]
  },
  {
   "cell_type": "code",
   "execution_count": 15,
   "metadata": {},
   "outputs": [
    {
     "name": "stdout",
     "output_type": "stream",
     "text": [
      "Length of it_companies: 7\n",
      "After adding 'Twitter': {'Amazon', 'Twitter', 'IBM', 'Apple', 'Oracle', 'Microsoft', 'Google', 'Facebook'}\n",
      "After adding multiple companies: {'Intel', 'Microsoft', 'Adobe', 'Google', 'Twitter', 'Facebook', 'Amazon', 'Tesla', 'Apple', 'Oracle', 'IBM'}\n",
      "After removing 'Google': {'Intel', 'Microsoft', 'Adobe', 'Twitter', 'Facebook', 'Amazon', 'Tesla', 'Apple', 'Oracle', 'IBM'}\n"
     ]
    }
   ],
   "source": [
    "# Given sets and list\n",
    "it_companies = {'Facebook', 'Google', 'Microsoft', 'Apple', 'IBM', 'Oracle', 'Amazon'}\n",
    "A = {19, 22, 24, 20, 25, 26}\n",
    "B = {19, 22, 20, 25, 26, 24, 28, 27}\n",
    "age = [22, 19, 24, 25, 26, 24, 25, 24]\n",
    "\n",
    "#Find the length of the set it_companies\n",
    "length_it_companies = len(it_companies)\n",
    "print(f\"Length of it_companies: {length_it_companies}\")\n",
    "\n",
    "#Add 'Twitter' to it_companies\n",
    "it_companies.add('Twitter')\n",
    "print(f\"After adding 'Twitter': {it_companies}\")\n",
    "\n",
    "# Insert multiple IT companies at once to the set it_companies\n",
    "new_companies = {'Tesla', 'Intel', 'Adobe'}\n",
    "it_companies.update(new_companies)\n",
    "print(f\"After adding multiple companies: {it_companies}\")\n",
    "\n",
    "#Remove one of the companies from the set it_companies\n",
    "it_companies.remove('Google') \n",
    "print(f\"After removing 'Google': {it_companies}\")\n",
    "\n"
   ]
  },
  {
   "cell_type": "markdown",
   "metadata": {},
   "source": [
    "# What is the difference between remove and discard?\n",
    "# - 'remove()' raises a KeyError if the element does not exist in the set.\n",
    "# - 'discard()' does NOT raise an error if the element does not exist in the set.\n"
   ]
  }
 ],
 "metadata": {
  "kernelspec": {
   "display_name": "base",
   "language": "python",
   "name": "python3"
  },
  "language_info": {
   "codemirror_mode": {
    "name": "ipython",
    "version": 3
   },
   "file_extension": ".py",
   "mimetype": "text/x-python",
   "name": "python",
   "nbconvert_exporter": "python",
   "pygments_lexer": "ipython3",
   "version": "3.9.12"
  }
 },
 "nbformat": 4,
 "nbformat_minor": 2
}
