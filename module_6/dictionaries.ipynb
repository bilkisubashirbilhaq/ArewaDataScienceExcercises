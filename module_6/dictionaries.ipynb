{
 "cells": [
  {
   "cell_type": "markdown",
   "metadata": {},
   "source": [
    "### Dictionaries\n",
    "A dictionary is a collection of unordered, modifiable(mutable) paired (key: value) data type.\n",
    "Creating a Dictionary\n",
    "To create a dictionary we use curly brackets, {} or the dict() built-in function.\n",
    "\n"
   ]
  },
  {
   "cell_type": "markdown",
   "metadata": {},
   "source": [
    "1. Create an empty dictionary called dog\n",
    "2. Add name, color, breed, legs, age to the dog dictionary\n",
    "3. Create a student dictionary and add first_name, last_name, gender, age, marital status, skills, country, city and address as keys for the dictionary\n",
    "4. Get the length of the student dictionary\n",
    "5. Get the value of skills and check the data type, it should be a list"
   ]
  },
  {
   "cell_type": "code",
   "execution_count": 7,
   "metadata": {},
   "outputs": [
    {
     "name": "stdout",
     "output_type": "stream",
     "text": [
      "dog dictionary: {}\n",
      "Dog dictionary: {'name': 'Buddy', 'color': 'Brown', 'breed': 'Golden Retriever', 'legs': 4, 'age': 3}\n",
      "Student dictionary: {'first_name': 'John', 'last_name': 'Doe', 'gender': 'Male', 'age': 25, 'marital_status': 'Single', 'skills': ['Python'], 'country': 'Nigerian', 'city': 'Kano', 'address': 'Nasarwa '}\n",
      "Length of the student dictionary: 9\n",
      "Skills: ['Python']\n",
      "Data type of skills: <class 'list'>\n"
     ]
    }
   ],
   "source": [
    "# 1. Create an empty dictionary called dog\n",
    "dog = {}\n",
    "print(f\"dog dictionary: {dog}\")\n",
    "\n",
    "# 2. Add name, color, breed, legs, age to the dog dictionary\n",
    "dog[\"name\"] = \"Buddy\"\n",
    "dog[\"color\"] = \"Brown\"\n",
    "dog[\"breed\"] = \"Golden Retriever\"\n",
    "dog[\"legs\"] = 4\n",
    "dog[\"age\"] = 3\n",
    "print(f\"Dog dictionary: {dog}\")\n",
    "\n",
    "# 3. Create a student dictionary and add first_name, last_name, gender, age, marital status, skills, country, city, and address as keys\n",
    "student = {\n",
    "    \"first_name\": \"John\",\n",
    "    \"last_name\": \"Doe\",\n",
    "    \"gender\": \"Male\",\n",
    "    \"age\": 25,\n",
    "    \"marital_status\": \"Single\",\n",
    "    \"skills\": [\"Python\"],\n",
    "    \"country\": \"Nigerian\",\n",
    "    \"city\": \"Kano\",\n",
    "    \"address\": \"Nasarwa \"\n",
    "}\n",
    "print(f\"Student dictionary: {student}\")\n",
    "\n",
    "# 4. Get the length of the student dictionary\n",
    "student_length = len(student)\n",
    "print(f\"Length of the student dictionary: {student_length}\")\n",
    "\n",
    "# 5. Get the value of skills and check the data type\n",
    "skills = student[\"skills\"]\n",
    "skills_type = type(skills)\n",
    "print(f\"Skills: {skills}\")\n",
    "print(f\"Data type of skills: {skills_type}\")\n"
   ]
  },
  {
   "cell_type": "markdown",
   "metadata": {},
   "source": [
    "6. Modify the skills values by adding one or two skills\n",
    "7. Get the dictionary keys as a list\n",
    "8. Get the dictionary values as a list"
   ]
  },
  {
   "cell_type": "code",
   "execution_count": null,
   "metadata": {},
   "outputs": [],
   "source": [
    "#Modify the skills values by adding one or two skills\n",
    "student[\"skills\"].extend([\"c++\", \"SQL\"])  \n",
    "print(f\"Updated skills: {student['skills']}\")\n",
    "\n",
    " #Get the dictionary keys as a list\n",
    "student_keys = list(student.keys())\n",
    "print(f\"Student dictionary keys: {student_keys}\")"
   ]
  },
  {
   "cell_type": "code",
   "execution_count": 9,
   "metadata": {},
   "outputs": [
    {
     "name": "stdout",
     "output_type": "stream",
     "text": [
      "Student dictionary values: ['John', 'Doe', 'Male', 25, 'Single', ['Python'], 'Nigerian', 'Kano', 'Nasarwa ']\n"
     ]
    }
   ],
   "source": [
    "# Get the dictionary values as a list\n",
    "student_values = list(student.values())\n",
    "print(f\"Student dictionary values: {student_values}\")"
   ]
  },
  {
   "cell_type": "markdown",
   "metadata": {},
   "source": [
    "9. Change the dictionary to a list of tuples using items() method\n",
    "10. Delete one of the items in the dictionary\n",
    "11. Delete one of the dictionaries"
   ]
  },
  {
   "cell_type": "code",
   "execution_count": 10,
   "metadata": {},
   "outputs": [
    {
     "name": "stdout",
     "output_type": "stream",
     "text": [
      "Student dictionary as list of tuples: [('first_name', 'John'), ('last_name', 'Doe'), ('gender', 'Male'), ('age', 25), ('marital_status', 'Single'), ('skills', ['Python']), ('country', 'Nigerian'), ('city', 'Kano'), ('address', 'Nasarwa ')]\n",
      "Student dictionary after deleting 'address': {'first_name': 'John', 'last_name': 'Doe', 'gender': 'Male', 'age': 25, 'marital_status': 'Single', 'skills': ['Python'], 'country': 'Nigerian', 'city': 'Kano'}\n",
      "Dog dictionary has been deleted.\n"
     ]
    }
   ],
   "source": [
    "# 9. Change the dictionary to a list of tuples using items() method\n",
    "student_items = list(student.items())\n",
    "print(f\"Student dictionary as list of tuples: {student_items}\")\n",
    "\n",
    "# 10. Delete one of the items in the dictionary\n",
    "del student[\"address\"]\n",
    "print(f\"Student dictionary after deleting 'address': {student}\")\n",
    "\n",
    "# 11. Delete one of the dictionaries\n",
    "del dog\n",
    "print(\"Dog dictionary has been deleted.\")"
   ]
  }
 ],
 "metadata": {
  "kernelspec": {
   "display_name": "base",
   "language": "python",
   "name": "python3"
  },
  "language_info": {
   "codemirror_mode": {
    "name": "ipython",
    "version": 3
   },
   "file_extension": ".py",
   "mimetype": "text/x-python",
   "name": "python",
   "nbconvert_exporter": "python",
   "pygments_lexer": "ipython3",
   "version": "3.9.12"
  }
 },
 "nbformat": 4,
 "nbformat_minor": 2
}
