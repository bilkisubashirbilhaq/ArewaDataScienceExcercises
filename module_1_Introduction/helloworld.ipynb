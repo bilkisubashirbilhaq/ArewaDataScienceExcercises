{
 "cells": [
  {
   "cell_type": "markdown",
   "metadata": {},
   "source": [
    "## INTROCTION\n",
    "####  Day 1 - 30DaysOfPython Challenge"
   ]
  },
  {
   "cell_type": "code",
   "execution_count": 4,
   "metadata": {},
   "outputs": [
    {
     "name": "stdout",
     "output_type": "stream",
     "text": [
      "5\n",
      "1\n",
      "6\n",
      "1.5\n",
      "9\n",
      "1\n",
      "1\n"
     ]
    }
   ],
   "source": [
    "print(3 + 2)\n",
    "print(3 - 2)   \n",
    "print(3 * 2)  \n",
    "print(3 / 2)   \n",
    "print(3 ** 2)  \n",
    "print(3 % 2)   \n",
    "print(3 // 2)  \n"
   ]
  },
  {
   "cell_type": "markdown",
   "metadata": {},
   "source": [
    "### Checking data types\n"
   ]
  },
  {
   "cell_type": "code",
   "execution_count": null,
   "metadata": {},
   "outputs": [],
   "source": []
  },
  {
   "cell_type": "code",
   "execution_count": 5,
   "metadata": {},
   "outputs": [
    {
     "name": "stdout",
     "output_type": "stream",
     "text": [
      "<class 'int'>\n",
      "<class 'float'>\n",
      "<class 'complex'>\n",
      "<class 'str'>\n",
      "<class 'list'>\n",
      "<class 'dict'>\n",
      "<class 'set'>\n",
      "<class 'tuple'>\n",
      "<class 'bool'>\n",
      "<class 'bool'>\n"
     ]
    }
   ],
   "source": [
    "print(type(10))                  \n",
    "print(type(3.14))                \n",
    "print(type(1 + 3j))             \n",
    "print(type('Asabeneh'))          \n",
    "print(type([1, 2, 3]))           \n",
    "print(type({'name':'Asabeneh'})) \n",
    "print(type({9.8, 3.14, 2.7}))    \n",
    "print(type((9.8, 3.14, 2.7)))    \n",
    "print(type(3 == 3))             \n",
    "print(type(3 >= 3))              "
   ]
  }
 ],
 "metadata": {
  "kernelspec": {
   "display_name": "base",
   "language": "python",
   "name": "python3"
  },
  "language_info": {
   "codemirror_mode": {
    "name": "ipython",
    "version": 3
   },
   "file_extension": ".py",
   "mimetype": "text/x-python",
   "name": "python",
   "nbconvert_exporter": "python",
   "pygments_lexer": "ipython3",
   "version": "3.9.12"
  }
 },
 "nbformat": 4,
 "nbformat_minor": 2
}
